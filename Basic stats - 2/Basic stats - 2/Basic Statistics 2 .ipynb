{
 "cells": [
  {
   "cell_type": "code",
   "execution_count": 1,
   "id": "2d0f79f8",
   "metadata": {},
   "outputs": [],
   "source": [
    "import numpy as np\n",
    "import scipy.stats as stats"
   ]
  },
  {
   "cell_type": "code",
   "execution_count": 2,
   "id": "2751664c",
   "metadata": {},
   "outputs": [],
   "source": [
    "# Data\n",
    "data = [1.13, 1.55, 1.43, 0.92, 1.25, 1.36, 1.32, 0.85, 1.07, 1.48, 1.20, 1.33, 1.18, 1.22, 1.29]"
   ]
  },
  {
   "cell_type": "code",
   "execution_count": 3,
   "id": "7310f66a",
   "metadata": {},
   "outputs": [],
   "source": [
    "# Sample statistics\n",
    "n = len(data)\n",
    "mean = np.mean(data)\n",
    "std_dev = np.std(data, ddof=1)"
   ]
  },
  {
   "cell_type": "code",
   "execution_count": 4,
   "id": "e81d1e91",
   "metadata": {},
   "outputs": [],
   "source": [
    "# Degrees of freedom\n",
    "df = n - 1"
   ]
  },
  {
   "cell_type": "code",
   "execution_count": 5,
   "id": "c82aab61",
   "metadata": {},
   "outputs": [],
   "source": [
    "# Critical t-value for 99% confidence\n",
    "confidence_level = 0.99\n",
    "alpha = 1 - confidence_level\n",
    "t_critical = stats.t.ppf(1 - alpha/2, df)"
   ]
  },
  {
   "cell_type": "code",
   "execution_count": 8,
   "id": "6fbb70e8",
   "metadata": {},
   "outputs": [],
   "source": [
    "# Margin of error\n",
    "margin_of_error = t_critical * (std_dev / np.sqrt(n))"
   ]
  },
  {
   "cell_type": "code",
   "execution_count": 9,
   "id": "6f098ed9",
   "metadata": {},
   "outputs": [],
   "source": [
    "ci_lower = mean - margin_of_error\n",
    "ci_upper = mean + margin_of_error"
   ]
  },
  {
   "cell_type": "code",
   "execution_count": 10,
   "id": "86a73733",
   "metadata": {},
   "outputs": [
    {
     "data": {
      "text/plain": [
       "1.2386666666666666"
      ]
     },
     "execution_count": 10,
     "metadata": {},
     "output_type": "execute_result"
    }
   ],
   "source": [
    "mean"
   ]
  },
  {
   "cell_type": "code",
   "execution_count": 11,
   "id": "3ef955fb",
   "metadata": {},
   "outputs": [
    {
     "data": {
      "text/plain": [
       "0.19316412956959936"
      ]
     },
     "execution_count": 11,
     "metadata": {},
     "output_type": "execute_result"
    }
   ],
   "source": [
    "std_dev"
   ]
  },
  {
   "cell_type": "code",
   "execution_count": 12,
   "id": "1e0f5587",
   "metadata": {},
   "outputs": [
    {
     "data": {
      "text/plain": [
       "(0.19316412956959936, 2.97684273411266)"
      ]
     },
     "execution_count": 12,
     "metadata": {},
     "output_type": "execute_result"
    }
   ],
   "source": [
    "std_dev, t_critical"
   ]
  },
  {
   "cell_type": "code",
   "execution_count": 13,
   "id": "553e22c4",
   "metadata": {},
   "outputs": [
    {
     "data": {
      "text/plain": [
       "0.1484693282152996"
      ]
     },
     "execution_count": 13,
     "metadata": {},
     "output_type": "execute_result"
    }
   ],
   "source": [
    "margin_of_error"
   ]
  },
  {
   "cell_type": "code",
   "execution_count": 15,
   "id": "19876ab6",
   "metadata": {},
   "outputs": [
    {
     "data": {
      "text/plain": [
       "(1.090197338451367, 1.3871359948819662)"
      ]
     },
     "execution_count": 15,
     "metadata": {},
     "output_type": "execute_result"
    }
   ],
   "source": [
    "ci_lower,ci_upper"
   ]
  },
  {
   "cell_type": "code",
   "execution_count": 16,
   "id": "c8f4690e",
   "metadata": {},
   "outputs": [],
   "source": [
    "#Part A answer : 99% confidence interval (1.090,1.387) million characters\n"
   ]
  },
  {
   "cell_type": "code",
   "execution_count": 17,
   "id": "291e77d2",
   "metadata": {},
   "outputs": [],
   "source": [
    "# Population standard deviation\n",
    "population_std_dev = 0.2"
   ]
  },
  {
   "cell_type": "code",
   "execution_count": 18,
   "id": "90cc8729",
   "metadata": {},
   "outputs": [],
   "source": [
    "# Critical z-value for 99% confidence\n",
    "z_critical = stats.norm.ppf(1 - alpha/2)"
   ]
  },
  {
   "cell_type": "code",
   "execution_count": 19,
   "id": "6844db70",
   "metadata": {},
   "outputs": [],
   "source": [
    "# Margin of error\n",
    "margin_of_error_pop = z_critical * (population_std_dev / np.sqrt(n))"
   ]
  },
  {
   "cell_type": "code",
   "execution_count": 21,
   "id": "469fe684",
   "metadata": {},
   "outputs": [],
   "source": [
    "# Confidence interval\n",
    "ci_lower_pop = mean - margin_of_error_pop\n",
    "ci_upper_pop = mean + margin_of_error_pop"
   ]
  },
  {
   "cell_type": "code",
   "execution_count": 22,
   "id": "b4fb7f4a",
   "metadata": {},
   "outputs": [
    {
     "data": {
      "text/plain": [
       "0.2"
      ]
     },
     "execution_count": 22,
     "metadata": {},
     "output_type": "execute_result"
    }
   ],
   "source": [
    "population_std_dev"
   ]
  },
  {
   "cell_type": "code",
   "execution_count": 23,
   "id": "542c9612",
   "metadata": {},
   "outputs": [
    {
     "data": {
      "text/plain": [
       "(2.5758293035489004, 0.13301525327090588)"
      ]
     },
     "execution_count": 23,
     "metadata": {},
     "output_type": "execute_result"
    }
   ],
   "source": [
    "z_critical, margin_of_error_pop"
   ]
  },
  {
   "cell_type": "code",
   "execution_count": 25,
   "id": "f83f167f",
   "metadata": {},
   "outputs": [
    {
     "data": {
      "text/plain": [
       "(1.1056514133957607, 1.3716819199375725)"
      ]
     },
     "execution_count": 25,
     "metadata": {},
     "output_type": "execute_result"
    }
   ],
   "source": [
    "ci_lower_pop,ci_upper_pop"
   ]
  },
  {
   "cell_type": "code",
   "execution_count": 26,
   "id": "202d6004",
   "metadata": {},
   "outputs": [],
   "source": [
    "#part B Answer : 99% confidence interval (1.106,1.372) million characters\n"
   ]
  },
  {
   "cell_type": "code",
   "execution_count": null,
   "id": "796a8e19",
   "metadata": {},
   "outputs": [],
   "source": []
  }
 ],
 "metadata": {
  "kernelspec": {
   "display_name": "Python 3 (ipykernel)",
   "language": "python",
   "name": "python3"
  },
  "language_info": {
   "codemirror_mode": {
    "name": "ipython",
    "version": 3
   },
   "file_extension": ".py",
   "mimetype": "text/x-python",
   "name": "python",
   "nbconvert_exporter": "python",
   "pygments_lexer": "ipython3",
   "version": "3.10.9"
  }
 },
 "nbformat": 4,
 "nbformat_minor": 5
}
