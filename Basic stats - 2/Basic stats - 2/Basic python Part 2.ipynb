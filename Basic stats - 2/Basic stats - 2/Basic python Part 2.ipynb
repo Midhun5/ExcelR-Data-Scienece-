{
 "cells": [
  {
   "cell_type": "markdown",
   "id": "d1d7869f",
   "metadata": {},
   "source": [
    "# Product of random number guessing"
   ]
  },
  {
   "cell_type": "code",
   "execution_count": 1,
   "id": "37dc856b",
   "metadata": {},
   "outputs": [],
   "source": [
    "import random"
   ]
  },
  {
   "cell_type": "code",
   "execution_count": 2,
   "id": "b6207f47",
   "metadata": {},
   "outputs": [
    {
     "data": {
      "text/plain": [
       "(63, 21)"
      ]
     },
     "execution_count": 2,
     "metadata": {},
     "output_type": "execute_result"
    }
   ],
   "source": [
    "#generate the two numbers for the example\n",
    "num_1 = random.randint(1,100)\n",
    "num_2 = random.randint(1,100)\n",
    "num_1,num_2"
   ]
  },
  {
   "cell_type": "code",
   "execution_count": 3,
   "id": "a97114dd",
   "metadata": {},
   "outputs": [],
   "source": [
    "product = num_1 * num_2"
   ]
  },
  {
   "cell_type": "code",
   "execution_count": 4,
   "id": "e21a5c6a",
   "metadata": {},
   "outputs": [
    {
     "data": {
      "text/plain": [
       "1323"
      ]
     },
     "execution_count": 4,
     "metadata": {},
     "output_type": "execute_result"
    }
   ],
   "source": [
    "product"
   ]
  },
  {
   "cell_type": "code",
   "execution_count": 5,
   "id": "8695adc9",
   "metadata": {},
   "outputs": [
    {
     "name": "stdout",
     "output_type": "stream",
     "text": [
      "What is the product of 63 and 21? 2324\n"
     ]
    }
   ],
   "source": [
    "guessing = int(input(\"What is the product of \" + str(num_1) + \" and \" + str(num_2) + \"? \"))"
   ]
  },
  {
   "cell_type": "code",
   "execution_count": 6,
   "id": "31cf443c",
   "metadata": {},
   "outputs": [
    {
     "name": "stdout",
     "output_type": "stream",
     "text": [
      "Oops!, you are failed to guess the number\n"
     ]
    }
   ],
   "source": [
    "## now we have to ckeck whether the guessing of user is correct or not\n",
    "\n",
    "if guessing == product :\n",
    "    print(\"congrats!!, your guessing is correct\")\n",
    "else:\n",
    "    print(\"Oops!, you are failed to guess the number\")"
   ]
  },
  {
   "cell_type": "markdown",
   "id": "eeb33cfc",
   "metadata": {},
   "source": [
    "# Squares of even/odd numbers\n"
   ]
  },
  {
   "cell_type": "code",
   "execution_count": 7,
   "id": "ed22f5eb",
   "metadata": {},
   "outputs": [],
   "source": [
    "##the range between the number is given \n",
    "start_num = 100\n",
    "end_num = 200"
   ]
  },
  {
   "cell_type": "code",
   "execution_count": 8,
   "id": "fbfbd875",
   "metadata": {},
   "outputs": [],
   "source": [
    "## in this we separate the odd and even values between the range.\n",
    "odd_numbers = []\n",
    "even_numbers = []\n",
    "\n",
    "for i in range(start_num, end_num+1):\n",
    "    if i % 2 == 0:\n",
    "        even_numbers.append(i)\n",
    "    else:\n",
    "        odd_numbers.append(i)"
   ]
  },
  {
   "cell_type": "code",
   "execution_count": 9,
   "id": "95d1a7eb",
   "metadata": {},
   "outputs": [
    {
     "data": {
      "text/plain": [
       "array([10201, 10609, 11025, 11449, 11881, 12321, 12769, 13225, 13689,\n",
       "       14161, 14641, 15129, 15625, 16129, 16641, 17161, 17689, 18225,\n",
       "       18769, 19321, 19881, 20449, 21025, 21609, 22201, 22801, 23409,\n",
       "       24025, 24649, 25281, 25921, 26569, 27225, 27889, 28561, 29241,\n",
       "       29929, 30625, 31329, 32041, 32761, 33489, 34225, 34969, 35721,\n",
       "       36481, 37249, 38025, 38809, 39601])"
      ]
     },
     "execution_count": 9,
     "metadata": {},
     "output_type": "execute_result"
    }
   ],
   "source": [
    "import numpy as np\n",
    "odd_num_squares = np.square(odd_numbers)\n",
    "odd_num_squares"
   ]
  },
  {
   "cell_type": "code",
   "execution_count": 10,
   "id": "0b266da7",
   "metadata": {},
   "outputs": [
    {
     "data": {
      "text/plain": [
       "array([10000, 10404, 10816, 11236, 11664, 12100, 12544, 12996, 13456,\n",
       "       13924, 14400, 14884, 15376, 15876, 16384, 16900, 17424, 17956,\n",
       "       18496, 19044, 19600, 20164, 20736, 21316, 21904, 22500, 23104,\n",
       "       23716, 24336, 24964, 25600, 26244, 26896, 27556, 28224, 28900,\n",
       "       29584, 30276, 30976, 31684, 32400, 33124, 33856, 34596, 35344,\n",
       "       36100, 36864, 37636, 38416, 39204, 40000])"
      ]
     },
     "execution_count": 10,
     "metadata": {},
     "output_type": "execute_result"
    }
   ],
   "source": [
    "even_num_squares = np.square(even_numbers)\n",
    "even_num_squares"
   ]
  },
  {
   "cell_type": "markdown",
   "id": "b6a6635a",
   "metadata": {},
   "source": [
    "# Word Counter"
   ]
  },
  {
   "cell_type": "code",
   "execution_count": 11,
   "id": "5b06edff",
   "metadata": {},
   "outputs": [],
   "source": [
    "def count_word_occurrences(text):\n",
    "    \n",
    "    text = text.lower()\n",
    "\n",
    "  # Split the text into words using whitespace as delimiter\n",
    "    words = text.split()\n",
    "\n",
    "    word_counts = {}\n",
    "\n",
    "\n",
    "    for word in words:\n",
    "      if word in word_counts:\n",
    "        word_counts[word] += 1\n",
    "      else:\n",
    "        word_counts[word] = 1\n",
    "\n",
    "    return word_counts\n"
   ]
  },
  {
   "cell_type": "code",
   "execution_count": 12,
   "id": "4759debe",
   "metadata": {},
   "outputs": [
    {
     "name": "stdout",
     "output_type": "stream",
     "text": [
      "{'this': 2, 'is': 1, 'a': 1, 'sample': 1, 'text.': 1, 'text': 1, 'will': 1, 'be': 1, 'used': 1, 'to': 1, 'demonstrate': 1, 'the': 1, 'word': 1, 'counter.': 1}\n"
     ]
    }
   ],
   "source": [
    "# Example text\n",
    "text = \"This is a sample text. This text will be used to demonstrate the word counter.\"\n",
    "word_counts = count_word_occurrences(text)\n",
    "print(word_counts)"
   ]
  },
  {
   "cell_type": "markdown",
   "id": "acadba54",
   "metadata": {},
   "source": [
    "# Check for Palindrome"
   ]
  },
  {
   "cell_type": "code",
   "execution_count": 13,
   "id": "253c5063",
   "metadata": {},
   "outputs": [],
   "source": [
    "#To check if a string is a palindrome, we'll write a Python function called is_palindrome. \n",
    "#This function will ignore spaces, punctuation, and capitalization when determining if the input string reads the same forwards and backwards. \n",
    "#Here is the implementation:\n",
    "\n"
   ]
  },
  {
   "cell_type": "code",
   "execution_count": 14,
   "id": "dcf1e850",
   "metadata": {},
   "outputs": [],
   "source": [
    "import string\n",
    "\n",
    "def is_palindrome(s):\n",
    "    # Remove spaces and punctuation, and convert to lowercase\n",
    "    s = ''.join(char.lower() for char in s if char.isalnum())\n",
    "    # Check if the cleaned string is the same forwards and backwards\n",
    "    return s == s[::-1]\n"
   ]
  },
  {
   "cell_type": "code",
   "execution_count": 15,
   "id": "759bd659",
   "metadata": {},
   "outputs": [
    {
     "name": "stdout",
     "output_type": "stream",
     "text": [
      "True\n",
      "True\n",
      "False\n",
      "True\n"
     ]
    }
   ],
   "source": [
    "# Test cases\n",
    "print(is_palindrome(\"racecar\"))  # Expected output: True\n",
    "print(is_palindrome(\"A man, a plan, a canal, Panama\"))  # Expected output: True\n",
    "print(is_palindrome(\"Hello, World!\"))  # Expected output: False\n",
    "print(is_palindrome(\"No 'x' in Nixon\"))  # Expected output: True"
   ]
  },
  {
   "cell_type": "markdown",
   "id": "10f7f07d",
   "metadata": {},
   "source": [
    "### Explanation:\n",
    "#1. *Removing spaces and punctuation, and converting to lowercase*:\n",
    "    - ''.join(char.lower() for char in s if char.isalnum()):\n",
    "        - This list comprehension iterates through each character in the input string s.\n",
    "        - It includes only alphanumeric characters (char.isalnum()) and converts them to lowercase (char.lower()).\n",
    "        - ''.join(...) then concatenates these characters into a single string without any spaces or punctuation."
   ]
  },
  {
   "cell_type": "markdown",
   "id": "255c4190",
   "metadata": {},
   "source": [
    "2. *Checking for palindrome*:\n",
    "    - s == s[::-1]:\n",
    "        - s[::-1] generates the reverse of the cleaned string.\n",
    "        - This comparison checks if the cleaned string reads the same forwards and backwards.\n"
   ]
  },
  {
   "cell_type": "markdown",
   "id": "bd97de59",
   "metadata": {},
   "source": [
    "you can use this function to check if various strings are palindromes. The test cases included show how different inputs are processed and evaluated."
   ]
  },
  {
   "cell_type": "code",
   "execution_count": null,
   "id": "a087578f",
   "metadata": {},
   "outputs": [],
   "source": []
  }
 ],
 "metadata": {
  "kernelspec": {
   "display_name": "Python 3 (ipykernel)",
   "language": "python",
   "name": "python3"
  },
  "language_info": {
   "codemirror_mode": {
    "name": "ipython",
    "version": 3
   },
   "file_extension": ".py",
   "mimetype": "text/x-python",
   "name": "python",
   "nbconvert_exporter": "python",
   "pygments_lexer": "ipython3",
   "version": "3.10.9"
  }
 },
 "nbformat": 4,
 "nbformat_minor": 5
}
