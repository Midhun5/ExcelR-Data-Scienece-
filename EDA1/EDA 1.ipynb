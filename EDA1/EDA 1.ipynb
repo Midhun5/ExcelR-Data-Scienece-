{
 "cells": [
  {
   "cell_type": "code",
   "execution_count": 3,
   "id": "8f4474bc",
   "metadata": {},
   "outputs": [],
   "source": [
    "import pandas as pd \n",
    "import seaborn as sns \n",
    "import numpy as np\n",
    "import matplotlib.pyplot as plt"
   ]
  },
  {
   "cell_type": "code",
   "execution_count": 12,
   "id": "100e7d31",
   "metadata": {},
   "outputs": [
    {
     "data": {
      "text/html": [
       "<div>\n",
       "<style scoped>\n",
       "    .dataframe tbody tr th:only-of-type {\n",
       "        vertical-align: middle;\n",
       "    }\n",
       "\n",
       "    .dataframe tbody tr th {\n",
       "        vertical-align: top;\n",
       "    }\n",
       "\n",
       "    .dataframe thead th {\n",
       "        text-align: right;\n",
       "    }\n",
       "</style>\n",
       "<table border=\"1\" class=\"dataframe\">\n",
       "  <thead>\n",
       "    <tr style=\"text-align: right;\">\n",
       "      <th></th>\n",
       "      <th>LB</th>\n",
       "      <th>AC</th>\n",
       "      <th>FM</th>\n",
       "      <th>UC</th>\n",
       "      <th>DL</th>\n",
       "      <th>DS</th>\n",
       "      <th>DP</th>\n",
       "      <th>ASTV</th>\n",
       "      <th>MSTV</th>\n",
       "      <th>ALTV</th>\n",
       "      <th>MLTV</th>\n",
       "      <th>Width</th>\n",
       "      <th>Tendency</th>\n",
       "      <th>NSP</th>\n",
       "    </tr>\n",
       "  </thead>\n",
       "  <tbody>\n",
       "    <tr>\n",
       "      <th>0</th>\n",
       "      <td>120.000000</td>\n",
       "      <td>0.000000</td>\n",
       "      <td>0.0</td>\n",
       "      <td>0.000000</td>\n",
       "      <td>0.000000</td>\n",
       "      <td>0.0</td>\n",
       "      <td>0.0</td>\n",
       "      <td>73.0</td>\n",
       "      <td>0.5</td>\n",
       "      <td>43.0</td>\n",
       "      <td>2.4</td>\n",
       "      <td>64.0</td>\n",
       "      <td>0.999926</td>\n",
       "      <td>2.0</td>\n",
       "    </tr>\n",
       "    <tr>\n",
       "      <th>1</th>\n",
       "      <td>132.000000</td>\n",
       "      <td>0.006380</td>\n",
       "      <td>0.0</td>\n",
       "      <td>0.006380</td>\n",
       "      <td>0.003190</td>\n",
       "      <td>0.0</td>\n",
       "      <td>0.0</td>\n",
       "      <td>17.0</td>\n",
       "      <td>2.1</td>\n",
       "      <td>0.0</td>\n",
       "      <td>10.4</td>\n",
       "      <td>130.0</td>\n",
       "      <td>0.000000</td>\n",
       "      <td>1.0</td>\n",
       "    </tr>\n",
       "    <tr>\n",
       "      <th>2</th>\n",
       "      <td>133.000000</td>\n",
       "      <td>0.003322</td>\n",
       "      <td>0.0</td>\n",
       "      <td>0.008306</td>\n",
       "      <td>0.003322</td>\n",
       "      <td>0.0</td>\n",
       "      <td>0.0</td>\n",
       "      <td>16.0</td>\n",
       "      <td>2.1</td>\n",
       "      <td>0.0</td>\n",
       "      <td>13.4</td>\n",
       "      <td>130.0</td>\n",
       "      <td>0.000000</td>\n",
       "      <td>1.0</td>\n",
       "    </tr>\n",
       "    <tr>\n",
       "      <th>3</th>\n",
       "      <td>134.000000</td>\n",
       "      <td>0.002561</td>\n",
       "      <td>0.0</td>\n",
       "      <td>0.007742</td>\n",
       "      <td>0.002561</td>\n",
       "      <td>0.0</td>\n",
       "      <td>0.0</td>\n",
       "      <td>16.0</td>\n",
       "      <td>2.4</td>\n",
       "      <td>0.0</td>\n",
       "      <td>23.0</td>\n",
       "      <td>117.0</td>\n",
       "      <td>1.000000</td>\n",
       "      <td>1.0</td>\n",
       "    </tr>\n",
       "    <tr>\n",
       "      <th>4</th>\n",
       "      <td>131.948232</td>\n",
       "      <td>0.006515</td>\n",
       "      <td>0.0</td>\n",
       "      <td>0.008143</td>\n",
       "      <td>0.000000</td>\n",
       "      <td>0.0</td>\n",
       "      <td>0.0</td>\n",
       "      <td>16.0</td>\n",
       "      <td>2.4</td>\n",
       "      <td>0.0</td>\n",
       "      <td>19.9</td>\n",
       "      <td>117.0</td>\n",
       "      <td>1.000000</td>\n",
       "      <td>1.0</td>\n",
       "    </tr>\n",
       "  </tbody>\n",
       "</table>\n",
       "</div>"
      ],
      "text/plain": [
       "           LB        AC   FM        UC        DL   DS   DP  ASTV  MSTV  ALTV  \\\n",
       "0  120.000000  0.000000  0.0  0.000000  0.000000  0.0  0.0  73.0   0.5  43.0   \n",
       "1  132.000000  0.006380  0.0  0.006380  0.003190  0.0  0.0  17.0   2.1   0.0   \n",
       "2  133.000000  0.003322  0.0  0.008306  0.003322  0.0  0.0  16.0   2.1   0.0   \n",
       "3  134.000000  0.002561  0.0  0.007742  0.002561  0.0  0.0  16.0   2.4   0.0   \n",
       "4  131.948232  0.006515  0.0  0.008143  0.000000  0.0  0.0  16.0   2.4   0.0   \n",
       "\n",
       "   MLTV  Width  Tendency  NSP  \n",
       "0   2.4   64.0  0.999926  2.0  \n",
       "1  10.4  130.0  0.000000  1.0  \n",
       "2  13.4  130.0  0.000000  1.0  \n",
       "3  23.0  117.0  1.000000  1.0  \n",
       "4  19.9  117.0  1.000000  1.0  "
      ]
     },
     "execution_count": 12,
     "metadata": {},
     "output_type": "execute_result"
    }
   ],
   "source": [
    "df = pd.read_csv(r\"C:\\Users\\midhu\\Downloads\\EDA1 (1)\\EDA1\\Cardiotocographic.csv\")\n",
    "df.head()"
   ]
  },
  {
   "cell_type": "code",
   "execution_count": 13,
   "id": "fb4d4553",
   "metadata": {},
   "outputs": [
    {
     "data": {
      "text/plain": [
       "(2126, 14)"
      ]
     },
     "execution_count": 13,
     "metadata": {},
     "output_type": "execute_result"
    }
   ],
   "source": [
    "df.shape"
   ]
  },
  {
   "cell_type": "code",
   "execution_count": 14,
   "id": "f19fe8c1",
   "metadata": {},
   "outputs": [
    {
     "name": "stdout",
     "output_type": "stream",
     "text": [
      "<class 'pandas.core.frame.DataFrame'>\n",
      "RangeIndex: 2126 entries, 0 to 2125\n",
      "Data columns (total 14 columns):\n",
      " #   Column    Non-Null Count  Dtype  \n",
      "---  ------    --------------  -----  \n",
      " 0   LB        2105 non-null   float64\n",
      " 1   AC        2106 non-null   float64\n",
      " 2   FM        2126 non-null   float64\n",
      " 3   UC        2126 non-null   float64\n",
      " 4   DL        2126 non-null   float64\n",
      " 5   DS        2105 non-null   float64\n",
      " 6   DP        2105 non-null   float64\n",
      " 7   ASTV      2126 non-null   float64\n",
      " 8   MSTV      2126 non-null   float64\n",
      " 9   ALTV      2126 non-null   float64\n",
      " 10  MLTV      2105 non-null   float64\n",
      " 11  Width     2105 non-null   float64\n",
      " 12  Tendency  2105 non-null   float64\n",
      " 13  NSP       2105 non-null   float64\n",
      "dtypes: float64(14)\n",
      "memory usage: 232.7 KB\n"
     ]
    }
   ],
   "source": [
    "df.info()"
   ]
  },
  {
   "cell_type": "code",
   "execution_count": 15,
   "id": "235d66ee",
   "metadata": {},
   "outputs": [
    {
     "data": {
      "text/html": [
       "<div>\n",
       "<style scoped>\n",
       "    .dataframe tbody tr th:only-of-type {\n",
       "        vertical-align: middle;\n",
       "    }\n",
       "\n",
       "    .dataframe tbody tr th {\n",
       "        vertical-align: top;\n",
       "    }\n",
       "\n",
       "    .dataframe thead th {\n",
       "        text-align: right;\n",
       "    }\n",
       "</style>\n",
       "<table border=\"1\" class=\"dataframe\">\n",
       "  <thead>\n",
       "    <tr style=\"text-align: right;\">\n",
       "      <th></th>\n",
       "      <th>LB</th>\n",
       "      <th>AC</th>\n",
       "      <th>FM</th>\n",
       "      <th>UC</th>\n",
       "      <th>DL</th>\n",
       "      <th>DS</th>\n",
       "      <th>DP</th>\n",
       "      <th>ASTV</th>\n",
       "      <th>MSTV</th>\n",
       "      <th>ALTV</th>\n",
       "      <th>MLTV</th>\n",
       "      <th>Width</th>\n",
       "      <th>Tendency</th>\n",
       "      <th>NSP</th>\n",
       "    </tr>\n",
       "  </thead>\n",
       "  <tbody>\n",
       "    <tr>\n",
       "      <th>count</th>\n",
       "      <td>2105.000000</td>\n",
       "      <td>2106.000000</td>\n",
       "      <td>2126.000000</td>\n",
       "      <td>2126.000000</td>\n",
       "      <td>2126.000000</td>\n",
       "      <td>2105.000000</td>\n",
       "      <td>2105.000000</td>\n",
       "      <td>2126.000000</td>\n",
       "      <td>2126.000000</td>\n",
       "      <td>2126.000000</td>\n",
       "      <td>2105.000000</td>\n",
       "      <td>2105.000000</td>\n",
       "      <td>2105.000000</td>\n",
       "      <td>2105.000000</td>\n",
       "    </tr>\n",
       "    <tr>\n",
       "      <th>mean</th>\n",
       "      <td>133.343598</td>\n",
       "      <td>0.003219</td>\n",
       "      <td>0.009894</td>\n",
       "      <td>0.004391</td>\n",
       "      <td>0.001895</td>\n",
       "      <td>0.000003</td>\n",
       "      <td>0.000175</td>\n",
       "      <td>46.995984</td>\n",
       "      <td>1.364378</td>\n",
       "      <td>10.285964</td>\n",
       "      <td>8.284887</td>\n",
       "      <td>70.429260</td>\n",
       "      <td>0.316371</td>\n",
       "      <td>1.304507</td>\n",
       "    </tr>\n",
       "    <tr>\n",
       "      <th>std</th>\n",
       "      <td>11.270154</td>\n",
       "      <td>0.004391</td>\n",
       "      <td>0.067540</td>\n",
       "      <td>0.003340</td>\n",
       "      <td>0.003343</td>\n",
       "      <td>0.000142</td>\n",
       "      <td>0.000840</td>\n",
       "      <td>18.813973</td>\n",
       "      <td>1.173632</td>\n",
       "      <td>21.205041</td>\n",
       "      <td>7.772858</td>\n",
       "      <td>42.931822</td>\n",
       "      <td>0.645622</td>\n",
       "      <td>0.644619</td>\n",
       "    </tr>\n",
       "    <tr>\n",
       "      <th>min</th>\n",
       "      <td>51.842487</td>\n",
       "      <td>-0.019284</td>\n",
       "      <td>-0.480634</td>\n",
       "      <td>-0.014925</td>\n",
       "      <td>-0.015393</td>\n",
       "      <td>-0.001353</td>\n",
       "      <td>-0.005348</td>\n",
       "      <td>-63.000000</td>\n",
       "      <td>-6.600000</td>\n",
       "      <td>-91.000000</td>\n",
       "      <td>-50.700000</td>\n",
       "      <td>-174.000000</td>\n",
       "      <td>-3.000000</td>\n",
       "      <td>-1.025988</td>\n",
       "    </tr>\n",
       "    <tr>\n",
       "      <th>25%</th>\n",
       "      <td>126.000000</td>\n",
       "      <td>0.000000</td>\n",
       "      <td>0.000000</td>\n",
       "      <td>0.001851</td>\n",
       "      <td>0.000000</td>\n",
       "      <td>0.000000</td>\n",
       "      <td>0.000000</td>\n",
       "      <td>32.000000</td>\n",
       "      <td>0.700000</td>\n",
       "      <td>0.000000</td>\n",
       "      <td>4.600000</td>\n",
       "      <td>37.000000</td>\n",
       "      <td>0.000000</td>\n",
       "      <td>1.000000</td>\n",
       "    </tr>\n",
       "    <tr>\n",
       "      <th>50%</th>\n",
       "      <td>133.000000</td>\n",
       "      <td>0.001634</td>\n",
       "      <td>0.000000</td>\n",
       "      <td>0.004484</td>\n",
       "      <td>0.000000</td>\n",
       "      <td>0.000000</td>\n",
       "      <td>0.000000</td>\n",
       "      <td>49.000000</td>\n",
       "      <td>1.200000</td>\n",
       "      <td>0.000000</td>\n",
       "      <td>7.400000</td>\n",
       "      <td>67.000000</td>\n",
       "      <td>0.000000</td>\n",
       "      <td>1.000000</td>\n",
       "    </tr>\n",
       "    <tr>\n",
       "      <th>75%</th>\n",
       "      <td>140.000000</td>\n",
       "      <td>0.005650</td>\n",
       "      <td>0.002567</td>\n",
       "      <td>0.006536</td>\n",
       "      <td>0.003289</td>\n",
       "      <td>0.000000</td>\n",
       "      <td>0.000000</td>\n",
       "      <td>61.000000</td>\n",
       "      <td>1.700000</td>\n",
       "      <td>11.000000</td>\n",
       "      <td>10.900000</td>\n",
       "      <td>100.000000</td>\n",
       "      <td>1.000000</td>\n",
       "      <td>1.000000</td>\n",
       "    </tr>\n",
       "    <tr>\n",
       "      <th>max</th>\n",
       "      <td>214.000000</td>\n",
       "      <td>0.038567</td>\n",
       "      <td>0.961268</td>\n",
       "      <td>0.030002</td>\n",
       "      <td>0.030769</td>\n",
       "      <td>0.002706</td>\n",
       "      <td>0.010695</td>\n",
       "      <td>162.000000</td>\n",
       "      <td>13.800000</td>\n",
       "      <td>182.000000</td>\n",
       "      <td>101.400000</td>\n",
       "      <td>357.000000</td>\n",
       "      <td>3.000000</td>\n",
       "      <td>5.000000</td>\n",
       "    </tr>\n",
       "  </tbody>\n",
       "</table>\n",
       "</div>"
      ],
      "text/plain": [
       "                LB           AC           FM           UC           DL  \\\n",
       "count  2105.000000  2106.000000  2126.000000  2126.000000  2126.000000   \n",
       "mean    133.343598     0.003219     0.009894     0.004391     0.001895   \n",
       "std      11.270154     0.004391     0.067540     0.003340     0.003343   \n",
       "min      51.842487    -0.019284    -0.480634    -0.014925    -0.015393   \n",
       "25%     126.000000     0.000000     0.000000     0.001851     0.000000   \n",
       "50%     133.000000     0.001634     0.000000     0.004484     0.000000   \n",
       "75%     140.000000     0.005650     0.002567     0.006536     0.003289   \n",
       "max     214.000000     0.038567     0.961268     0.030002     0.030769   \n",
       "\n",
       "                DS           DP         ASTV         MSTV         ALTV  \\\n",
       "count  2105.000000  2105.000000  2126.000000  2126.000000  2126.000000   \n",
       "mean      0.000003     0.000175    46.995984     1.364378    10.285964   \n",
       "std       0.000142     0.000840    18.813973     1.173632    21.205041   \n",
       "min      -0.001353    -0.005348   -63.000000    -6.600000   -91.000000   \n",
       "25%       0.000000     0.000000    32.000000     0.700000     0.000000   \n",
       "50%       0.000000     0.000000    49.000000     1.200000     0.000000   \n",
       "75%       0.000000     0.000000    61.000000     1.700000    11.000000   \n",
       "max       0.002706     0.010695   162.000000    13.800000   182.000000   \n",
       "\n",
       "              MLTV        Width     Tendency          NSP  \n",
       "count  2105.000000  2105.000000  2105.000000  2105.000000  \n",
       "mean      8.284887    70.429260     0.316371     1.304507  \n",
       "std       7.772858    42.931822     0.645622     0.644619  \n",
       "min     -50.700000  -174.000000    -3.000000    -1.025988  \n",
       "25%       4.600000    37.000000     0.000000     1.000000  \n",
       "50%       7.400000    67.000000     0.000000     1.000000  \n",
       "75%      10.900000   100.000000     1.000000     1.000000  \n",
       "max     101.400000   357.000000     3.000000     5.000000  "
      ]
     },
     "execution_count": 15,
     "metadata": {},
     "output_type": "execute_result"
    }
   ],
   "source": [
    "## according to descriptive analysis we find that there are missing values present. many columns do not have a single numeric value in there 75% data\n",
    "df.describe()"
   ]
  },
  {
   "cell_type": "code",
   "execution_count": 16,
   "id": "b591ee99",
   "metadata": {},
   "outputs": [
    {
     "data": {
      "text/plain": [
       "LB          21\n",
       "AC          20\n",
       "FM           0\n",
       "UC           0\n",
       "DL           0\n",
       "DS          21\n",
       "DP          21\n",
       "ASTV         0\n",
       "MSTV         0\n",
       "ALTV         0\n",
       "MLTV        21\n",
       "Width       21\n",
       "Tendency    21\n",
       "NSP         21\n",
       "dtype: int64"
      ]
     },
     "execution_count": 16,
     "metadata": {},
     "output_type": "execute_result"
    }
   ],
   "source": [
    "df.isna().sum()"
   ]
  },
  {
   "cell_type": "code",
   "execution_count": 17,
   "id": "6c81bfe6",
   "metadata": {},
   "outputs": [
    {
     "data": {
      "text/html": [
       "<div>\n",
       "<style scoped>\n",
       "    .dataframe tbody tr th:only-of-type {\n",
       "        vertical-align: middle;\n",
       "    }\n",
       "\n",
       "    .dataframe tbody tr th {\n",
       "        vertical-align: top;\n",
       "    }\n",
       "\n",
       "    .dataframe thead th {\n",
       "        text-align: right;\n",
       "    }\n",
       "</style>\n",
       "<table border=\"1\" class=\"dataframe\">\n",
       "  <thead>\n",
       "    <tr style=\"text-align: right;\">\n",
       "      <th></th>\n",
       "      <th>LB</th>\n",
       "      <th>AC</th>\n",
       "      <th>FM</th>\n",
       "      <th>UC</th>\n",
       "      <th>DL</th>\n",
       "      <th>DS</th>\n",
       "      <th>DP</th>\n",
       "      <th>ASTV</th>\n",
       "      <th>MSTV</th>\n",
       "      <th>ALTV</th>\n",
       "      <th>MLTV</th>\n",
       "      <th>Width</th>\n",
       "      <th>Tendency</th>\n",
       "      <th>NSP</th>\n",
       "    </tr>\n",
       "  </thead>\n",
       "  <tbody>\n",
       "    <tr>\n",
       "      <th>0</th>\n",
       "      <td>120.000000</td>\n",
       "      <td>0.000000</td>\n",
       "      <td>0.000000</td>\n",
       "      <td>0.000000</td>\n",
       "      <td>0.000000</td>\n",
       "      <td>0.0</td>\n",
       "      <td>0.0</td>\n",
       "      <td>73.0</td>\n",
       "      <td>0.5</td>\n",
       "      <td>43.000000</td>\n",
       "      <td>2.4</td>\n",
       "      <td>64.0</td>\n",
       "      <td>0.999926</td>\n",
       "      <td>2.000000</td>\n",
       "    </tr>\n",
       "    <tr>\n",
       "      <th>1</th>\n",
       "      <td>132.000000</td>\n",
       "      <td>0.006380</td>\n",
       "      <td>0.000000</td>\n",
       "      <td>0.006380</td>\n",
       "      <td>0.003190</td>\n",
       "      <td>0.0</td>\n",
       "      <td>0.0</td>\n",
       "      <td>17.0</td>\n",
       "      <td>2.1</td>\n",
       "      <td>0.000000</td>\n",
       "      <td>10.4</td>\n",
       "      <td>130.0</td>\n",
       "      <td>0.000000</td>\n",
       "      <td>1.000000</td>\n",
       "    </tr>\n",
       "    <tr>\n",
       "      <th>2</th>\n",
       "      <td>133.000000</td>\n",
       "      <td>0.003322</td>\n",
       "      <td>0.000000</td>\n",
       "      <td>0.008306</td>\n",
       "      <td>0.003322</td>\n",
       "      <td>0.0</td>\n",
       "      <td>0.0</td>\n",
       "      <td>16.0</td>\n",
       "      <td>2.1</td>\n",
       "      <td>0.000000</td>\n",
       "      <td>13.4</td>\n",
       "      <td>130.0</td>\n",
       "      <td>0.000000</td>\n",
       "      <td>1.000000</td>\n",
       "    </tr>\n",
       "    <tr>\n",
       "      <th>3</th>\n",
       "      <td>134.000000</td>\n",
       "      <td>0.002561</td>\n",
       "      <td>0.000000</td>\n",
       "      <td>0.007742</td>\n",
       "      <td>0.002561</td>\n",
       "      <td>0.0</td>\n",
       "      <td>0.0</td>\n",
       "      <td>16.0</td>\n",
       "      <td>2.4</td>\n",
       "      <td>0.000000</td>\n",
       "      <td>23.0</td>\n",
       "      <td>117.0</td>\n",
       "      <td>1.000000</td>\n",
       "      <td>1.000000</td>\n",
       "    </tr>\n",
       "    <tr>\n",
       "      <th>4</th>\n",
       "      <td>131.948232</td>\n",
       "      <td>0.006515</td>\n",
       "      <td>0.000000</td>\n",
       "      <td>0.008143</td>\n",
       "      <td>0.000000</td>\n",
       "      <td>0.0</td>\n",
       "      <td>0.0</td>\n",
       "      <td>16.0</td>\n",
       "      <td>2.4</td>\n",
       "      <td>0.000000</td>\n",
       "      <td>19.9</td>\n",
       "      <td>117.0</td>\n",
       "      <td>1.000000</td>\n",
       "      <td>1.000000</td>\n",
       "    </tr>\n",
       "    <tr>\n",
       "      <th>...</th>\n",
       "      <td>...</td>\n",
       "      <td>...</td>\n",
       "      <td>...</td>\n",
       "      <td>...</td>\n",
       "      <td>...</td>\n",
       "      <td>...</td>\n",
       "      <td>...</td>\n",
       "      <td>...</td>\n",
       "      <td>...</td>\n",
       "      <td>...</td>\n",
       "      <td>...</td>\n",
       "      <td>...</td>\n",
       "      <td>...</td>\n",
       "      <td>...</td>\n",
       "    </tr>\n",
       "    <tr>\n",
       "      <th>2121</th>\n",
       "      <td>140.000000</td>\n",
       "      <td>0.000000</td>\n",
       "      <td>0.961268</td>\n",
       "      <td>0.007426</td>\n",
       "      <td>0.000000</td>\n",
       "      <td>0.0</td>\n",
       "      <td>0.0</td>\n",
       "      <td>79.0</td>\n",
       "      <td>0.2</td>\n",
       "      <td>25.000000</td>\n",
       "      <td>7.2</td>\n",
       "      <td>40.0</td>\n",
       "      <td>0.000000</td>\n",
       "      <td>2.000000</td>\n",
       "    </tr>\n",
       "    <tr>\n",
       "      <th>2122</th>\n",
       "      <td>140.000000</td>\n",
       "      <td>0.000775</td>\n",
       "      <td>0.000000</td>\n",
       "      <td>0.006979</td>\n",
       "      <td>0.000000</td>\n",
       "      <td>0.0</td>\n",
       "      <td>0.0</td>\n",
       "      <td>78.0</td>\n",
       "      <td>0.4</td>\n",
       "      <td>22.000000</td>\n",
       "      <td>7.1</td>\n",
       "      <td>66.0</td>\n",
       "      <td>1.000000</td>\n",
       "      <td>2.000000</td>\n",
       "    </tr>\n",
       "    <tr>\n",
       "      <th>2123</th>\n",
       "      <td>140.000000</td>\n",
       "      <td>0.000980</td>\n",
       "      <td>0.000000</td>\n",
       "      <td>0.006863</td>\n",
       "      <td>0.000000</td>\n",
       "      <td>0.0</td>\n",
       "      <td>0.0</td>\n",
       "      <td>79.0</td>\n",
       "      <td>0.4</td>\n",
       "      <td>20.000000</td>\n",
       "      <td>6.1</td>\n",
       "      <td>67.0</td>\n",
       "      <td>1.000000</td>\n",
       "      <td>1.990464</td>\n",
       "    </tr>\n",
       "    <tr>\n",
       "      <th>2124</th>\n",
       "      <td>140.000000</td>\n",
       "      <td>0.000679</td>\n",
       "      <td>0.000000</td>\n",
       "      <td>0.006110</td>\n",
       "      <td>0.000000</td>\n",
       "      <td>0.0</td>\n",
       "      <td>0.0</td>\n",
       "      <td>78.0</td>\n",
       "      <td>0.4</td>\n",
       "      <td>27.000000</td>\n",
       "      <td>7.0</td>\n",
       "      <td>66.0</td>\n",
       "      <td>1.000000</td>\n",
       "      <td>2.000000</td>\n",
       "    </tr>\n",
       "    <tr>\n",
       "      <th>2125</th>\n",
       "      <td>142.000000</td>\n",
       "      <td>0.001616</td>\n",
       "      <td>-0.000188</td>\n",
       "      <td>0.008078</td>\n",
       "      <td>0.000000</td>\n",
       "      <td>0.0</td>\n",
       "      <td>0.0</td>\n",
       "      <td>74.0</td>\n",
       "      <td>0.4</td>\n",
       "      <td>35.857183</td>\n",
       "      <td>5.0</td>\n",
       "      <td>42.0</td>\n",
       "      <td>0.000000</td>\n",
       "      <td>1.000000</td>\n",
       "    </tr>\n",
       "  </tbody>\n",
       "</table>\n",
       "<p>2105 rows × 14 columns</p>\n",
       "</div>"
      ],
      "text/plain": [
       "              LB        AC        FM        UC        DL   DS   DP  ASTV  \\\n",
       "0     120.000000  0.000000  0.000000  0.000000  0.000000  0.0  0.0  73.0   \n",
       "1     132.000000  0.006380  0.000000  0.006380  0.003190  0.0  0.0  17.0   \n",
       "2     133.000000  0.003322  0.000000  0.008306  0.003322  0.0  0.0  16.0   \n",
       "3     134.000000  0.002561  0.000000  0.007742  0.002561  0.0  0.0  16.0   \n",
       "4     131.948232  0.006515  0.000000  0.008143  0.000000  0.0  0.0  16.0   \n",
       "...          ...       ...       ...       ...       ...  ...  ...   ...   \n",
       "2121  140.000000  0.000000  0.961268  0.007426  0.000000  0.0  0.0  79.0   \n",
       "2122  140.000000  0.000775  0.000000  0.006979  0.000000  0.0  0.0  78.0   \n",
       "2123  140.000000  0.000980  0.000000  0.006863  0.000000  0.0  0.0  79.0   \n",
       "2124  140.000000  0.000679  0.000000  0.006110  0.000000  0.0  0.0  78.0   \n",
       "2125  142.000000  0.001616 -0.000188  0.008078  0.000000  0.0  0.0  74.0   \n",
       "\n",
       "      MSTV       ALTV  MLTV  Width  Tendency       NSP  \n",
       "0      0.5  43.000000   2.4   64.0  0.999926  2.000000  \n",
       "1      2.1   0.000000  10.4  130.0  0.000000  1.000000  \n",
       "2      2.1   0.000000  13.4  130.0  0.000000  1.000000  \n",
       "3      2.4   0.000000  23.0  117.0  1.000000  1.000000  \n",
       "4      2.4   0.000000  19.9  117.0  1.000000  1.000000  \n",
       "...    ...        ...   ...    ...       ...       ...  \n",
       "2121   0.2  25.000000   7.2   40.0  0.000000  2.000000  \n",
       "2122   0.4  22.000000   7.1   66.0  1.000000  2.000000  \n",
       "2123   0.4  20.000000   6.1   67.0  1.000000  1.990464  \n",
       "2124   0.4  27.000000   7.0   66.0  1.000000  2.000000  \n",
       "2125   0.4  35.857183   5.0   42.0  0.000000  1.000000  \n",
       "\n",
       "[2105 rows x 14 columns]"
      ]
     },
     "execution_count": 17,
     "metadata": {},
     "output_type": "execute_result"
    }
   ],
   "source": [
    "## missing values handling using deletion method\n",
    "new_df = df.dropna()\n",
    "new_df"
   ]
  },
  {
   "cell_type": "code",
   "execution_count": 18,
   "id": "fb91b6b4",
   "metadata": {},
   "outputs": [
    {
     "data": {
      "text/plain": [
       "(2105, 14)"
      ]
     },
     "execution_count": 18,
     "metadata": {},
     "output_type": "execute_result"
    }
   ],
   "source": [
    "new_df.shape"
   ]
  },
  {
   "cell_type": "code",
   "execution_count": 19,
   "id": "45d14c00",
   "metadata": {},
   "outputs": [
    {
     "data": {
      "text/plain": [
       "21"
      ]
     },
     "execution_count": 19,
     "metadata": {},
     "output_type": "execute_result"
    }
   ],
   "source": [
    "## missing values handling using Imputation \n",
    "df['LB'].isna().sum()"
   ]
  },
  {
   "cell_type": "code",
   "execution_count": 20,
   "id": "1bcecf11",
   "metadata": {},
   "outputs": [
    {
     "data": {
      "text/plain": [
       "133.3435983550352"
      ]
     },
     "execution_count": 20,
     "metadata": {},
     "output_type": "execute_result"
    }
   ],
   "source": [
    "## mean imputation\n",
    "mean1 = df['LB'].mean()\n",
    "mean1"
   ]
  },
  {
   "cell_type": "code",
   "execution_count": 21,
   "id": "b3134d12",
   "metadata": {},
   "outputs": [
    {
     "data": {
      "text/plain": [
       "0"
      ]
     },
     "execution_count": 21,
     "metadata": {},
     "output_type": "execute_result"
    }
   ],
   "source": [
    "df['LB'] = df['LB'].fillna(mean1)\n",
    "df['LB'].isna().sum()"
   ]
  },
  {
   "cell_type": "code",
   "execution_count": 22,
   "id": "10b62814",
   "metadata": {},
   "outputs": [
    {
     "data": {
      "text/plain": [
       "20"
      ]
     },
     "execution_count": 22,
     "metadata": {},
     "output_type": "execute_result"
    }
   ],
   "source": [
    "df['AC'].isna().sum()"
   ]
  },
  {
   "cell_type": "code",
   "execution_count": 23,
   "id": "650812e7",
   "metadata": {},
   "outputs": [
    {
     "data": {
      "text/plain": [
       "0.001633991"
      ]
     },
     "execution_count": 23,
     "metadata": {},
     "output_type": "execute_result"
    }
   ],
   "source": [
    "median2 = df['AC'].median()\n",
    "median2"
   ]
  },
  {
   "cell_type": "code",
   "execution_count": 24,
   "id": "6e964e54",
   "metadata": {},
   "outputs": [
    {
     "data": {
      "text/plain": [
       "0"
      ]
     },
     "execution_count": 24,
     "metadata": {},
     "output_type": "execute_result"
    }
   ],
   "source": [
    "df['AC'] = df['AC'].fillna(median2)\n",
    "df['AC'].isna().sum()"
   ]
  },
  {
   "cell_type": "code",
   "execution_count": 25,
   "id": "974f8562",
   "metadata": {},
   "outputs": [
    {
     "data": {
      "text/plain": [
       "21"
      ]
     },
     "execution_count": 25,
     "metadata": {},
     "output_type": "execute_result"
    }
   ],
   "source": [
    "df['DS'].isna().sum()"
   ]
  },
  {
   "cell_type": "code",
   "execution_count": 26,
   "id": "b29a2826",
   "metadata": {},
   "outputs": [
    {
     "data": {
      "text/plain": [
       "2.5089835057102827e-06"
      ]
     },
     "execution_count": 26,
     "metadata": {},
     "output_type": "execute_result"
    }
   ],
   "source": [
    "mean3 = df['DS'].mean()\n",
    "mean3"
   ]
  },
  {
   "cell_type": "code",
   "execution_count": 27,
   "id": "af792b8c",
   "metadata": {},
   "outputs": [
    {
     "data": {
      "text/plain": [
       "0"
      ]
     },
     "execution_count": 27,
     "metadata": {},
     "output_type": "execute_result"
    }
   ],
   "source": [
    "df['DS'] = df['DS'].fillna(mean3)\n",
    "df['DS'].isna().sum()"
   ]
  },
  {
   "cell_type": "code",
   "execution_count": 28,
   "id": "1f48bbb5",
   "metadata": {},
   "outputs": [
    {
     "data": {
      "text/plain": [
       "21"
      ]
     },
     "execution_count": 28,
     "metadata": {},
     "output_type": "execute_result"
    }
   ],
   "source": [
    "df['DP'].isna().sum()"
   ]
  },
  {
   "cell_type": "code",
   "execution_count": 29,
   "id": "6440211b",
   "metadata": {},
   "outputs": [
    {
     "data": {
      "text/plain": [
       "0.00017515121174634704"
      ]
     },
     "execution_count": 29,
     "metadata": {},
     "output_type": "execute_result"
    }
   ],
   "source": [
    "mean4 = df['DP'].mean()\n",
    "mean4"
   ]
  },
  {
   "cell_type": "code",
   "execution_count": 30,
   "id": "0abc1e2e",
   "metadata": {},
   "outputs": [
    {
     "data": {
      "text/plain": [
       "0"
      ]
     },
     "execution_count": 30,
     "metadata": {},
     "output_type": "execute_result"
    }
   ],
   "source": [
    "df['DP'] = df['DP'].fillna(mean4)\n",
    "df['DP'].isna().sum()"
   ]
  },
  {
   "cell_type": "code",
   "execution_count": 31,
   "id": "fd1d9722",
   "metadata": {},
   "outputs": [
    {
     "data": {
      "text/plain": [
       "21"
      ]
     },
     "execution_count": 31,
     "metadata": {},
     "output_type": "execute_result"
    }
   ],
   "source": [
    "df['MLTV'].isna().sum()"
   ]
  },
  {
   "cell_type": "code",
   "execution_count": 32,
   "id": "823a0a13",
   "metadata": {},
   "outputs": [
    {
     "data": {
      "text/plain": [
       "8.28488742706321"
      ]
     },
     "execution_count": 32,
     "metadata": {},
     "output_type": "execute_result"
    }
   ],
   "source": [
    "mean5 = df['MLTV'].mean()\n",
    "mean5"
   ]
  },
  {
   "cell_type": "code",
   "execution_count": 34,
   "id": "dd8740f5",
   "metadata": {},
   "outputs": [
    {
     "data": {
      "text/plain": [
       "0"
      ]
     },
     "execution_count": 34,
     "metadata": {},
     "output_type": "execute_result"
    }
   ],
   "source": [
    "df['MLTV'] = df['MLTV'].fillna(mean5)\n",
    "df['MLTV'].isna().sum()"
   ]
  },
  {
   "cell_type": "code",
   "execution_count": 35,
   "id": "0531a3a2",
   "metadata": {},
   "outputs": [
    {
     "data": {
      "text/plain": [
       "21"
      ]
     },
     "execution_count": 35,
     "metadata": {},
     "output_type": "execute_result"
    }
   ],
   "source": [
    "df['Width'].isna().sum()"
   ]
  },
  {
   "cell_type": "code",
   "execution_count": 36,
   "id": "99ddd668",
   "metadata": {},
   "outputs": [
    {
     "data": {
      "text/plain": [
       "67.0"
      ]
     },
     "execution_count": 36,
     "metadata": {},
     "output_type": "execute_result"
    }
   ],
   "source": [
    "median6 = df['Width'].median()\n",
    "median6"
   ]
  },
  {
   "cell_type": "code",
   "execution_count": 37,
   "id": "27449b1f",
   "metadata": {},
   "outputs": [
    {
     "data": {
      "text/plain": [
       "0"
      ]
     },
     "execution_count": 37,
     "metadata": {},
     "output_type": "execute_result"
    }
   ],
   "source": [
    "df['Width'] = df['Width'].fillna(median6)\n",
    "df['Width'].isna().sum()"
   ]
  },
  {
   "cell_type": "code",
   "execution_count": 38,
   "id": "47b33943",
   "metadata": {},
   "outputs": [
    {
     "data": {
      "text/plain": [
       "21"
      ]
     },
     "execution_count": 38,
     "metadata": {},
     "output_type": "execute_result"
    }
   ],
   "source": [
    "df['Tendency'].isna().sum()"
   ]
  },
  {
   "cell_type": "code",
   "execution_count": 39,
   "id": "67c632db",
   "metadata": {},
   "outputs": [
    {
     "data": {
      "text/plain": [
       "0.3163714038702473"
      ]
     },
     "execution_count": 39,
     "metadata": {},
     "output_type": "execute_result"
    }
   ],
   "source": [
    "mean7 = df['Tendency'].mean()\n",
    "mean7\n"
   ]
  },
  {
   "cell_type": "code",
   "execution_count": 40,
   "id": "bb551417",
   "metadata": {},
   "outputs": [
    {
     "data": {
      "text/plain": [
       "0"
      ]
     },
     "execution_count": 40,
     "metadata": {},
     "output_type": "execute_result"
    }
   ],
   "source": [
    "df['Tendency'] = df['Tendency'].fillna(mean7)\n",
    "df['Tendency'].isna().sum()"
   ]
  },
  {
   "cell_type": "code",
   "execution_count": 41,
   "id": "2ff901ed",
   "metadata": {},
   "outputs": [
    {
     "data": {
      "text/plain": [
       "21"
      ]
     },
     "execution_count": 41,
     "metadata": {},
     "output_type": "execute_result"
    }
   ],
   "source": [
    "df['NSP'].isna().sum()"
   ]
  },
  {
   "cell_type": "code",
   "execution_count": 42,
   "id": "18ff8299",
   "metadata": {},
   "outputs": [
    {
     "data": {
      "text/plain": [
       "1.304507175110962"
      ]
     },
     "execution_count": 42,
     "metadata": {},
     "output_type": "execute_result"
    }
   ],
   "source": [
    "mean8 = df['NSP'].mean()\n",
    "mean8"
   ]
  },
  {
   "cell_type": "code",
   "execution_count": 43,
   "id": "ea451302",
   "metadata": {},
   "outputs": [
    {
     "data": {
      "text/plain": [
       "0"
      ]
     },
     "execution_count": 43,
     "metadata": {},
     "output_type": "execute_result"
    }
   ],
   "source": [
    "df['NSP'] = df['NSP'].fillna(mean8)\n",
    "df['NSP'].isna().sum()"
   ]
  },
  {
   "cell_type": "code",
   "execution_count": 44,
   "id": "8c57576d",
   "metadata": {},
   "outputs": [
    {
     "name": "stdout",
     "output_type": "stream",
     "text": [
      "<class 'pandas.core.frame.DataFrame'>\n",
      "RangeIndex: 2126 entries, 0 to 2125\n",
      "Data columns (total 14 columns):\n",
      " #   Column    Non-Null Count  Dtype  \n",
      "---  ------    --------------  -----  \n",
      " 0   LB        2126 non-null   float64\n",
      " 1   AC        2126 non-null   float64\n",
      " 2   FM        2126 non-null   float64\n",
      " 3   UC        2126 non-null   float64\n",
      " 4   DL        2126 non-null   float64\n",
      " 5   DS        2126 non-null   float64\n",
      " 6   DP        2126 non-null   float64\n",
      " 7   ASTV      2126 non-null   float64\n",
      " 8   MSTV      2126 non-null   float64\n",
      " 9   ALTV      2126 non-null   float64\n",
      " 10  MLTV      2126 non-null   float64\n",
      " 11  Width     2126 non-null   float64\n",
      " 12  Tendency  2126 non-null   float64\n",
      " 13  NSP       2126 non-null   float64\n",
      "dtypes: float64(14)\n",
      "memory usage: 232.7 KB\n"
     ]
    }
   ],
   "source": [
    "df.info()"
   ]
  },
  {
   "cell_type": "code",
   "execution_count": 45,
   "id": "d1ab90b1",
   "metadata": {},
   "outputs": [
    {
     "data": {
      "text/plain": [
       "LB          0\n",
       "AC          0\n",
       "FM          0\n",
       "UC          0\n",
       "DL          0\n",
       "DS          0\n",
       "DP          0\n",
       "ASTV        0\n",
       "MSTV        0\n",
       "ALTV        0\n",
       "MLTV        0\n",
       "Width       0\n",
       "Tendency    0\n",
       "NSP         0\n",
       "dtype: int64"
      ]
     },
     "execution_count": 45,
     "metadata": {},
     "output_type": "execute_result"
    }
   ],
   "source": [
    "df.isna().sum()"
   ]
  },
  {
   "cell_type": "code",
   "execution_count": 46,
   "id": "f1c8f459",
   "metadata": {},
   "outputs": [
    {
     "data": {
      "text/html": [
       "<div>\n",
       "<style scoped>\n",
       "    .dataframe tbody tr th:only-of-type {\n",
       "        vertical-align: middle;\n",
       "    }\n",
       "\n",
       "    .dataframe tbody tr th {\n",
       "        vertical-align: top;\n",
       "    }\n",
       "\n",
       "    .dataframe thead th {\n",
       "        text-align: right;\n",
       "    }\n",
       "</style>\n",
       "<table border=\"1\" class=\"dataframe\">\n",
       "  <thead>\n",
       "    <tr style=\"text-align: right;\">\n",
       "      <th></th>\n",
       "      <th>LB</th>\n",
       "      <th>AC</th>\n",
       "      <th>FM</th>\n",
       "      <th>UC</th>\n",
       "      <th>DL</th>\n",
       "      <th>DS</th>\n",
       "      <th>DP</th>\n",
       "      <th>ASTV</th>\n",
       "      <th>MSTV</th>\n",
       "      <th>ALTV</th>\n",
       "      <th>MLTV</th>\n",
       "      <th>Width</th>\n",
       "      <th>Tendency</th>\n",
       "      <th>NSP</th>\n",
       "    </tr>\n",
       "  </thead>\n",
       "  <tbody>\n",
       "    <tr>\n",
       "      <th>0</th>\n",
       "      <td>120.000000</td>\n",
       "      <td>0.000000</td>\n",
       "      <td>0.0</td>\n",
       "      <td>0.000000</td>\n",
       "      <td>0.000000</td>\n",
       "      <td>0.0</td>\n",
       "      <td>0.0</td>\n",
       "      <td>73.0</td>\n",
       "      <td>0.5</td>\n",
       "      <td>43.0</td>\n",
       "      <td>2.4</td>\n",
       "      <td>64.0</td>\n",
       "      <td>0.999926</td>\n",
       "      <td>2.0</td>\n",
       "    </tr>\n",
       "    <tr>\n",
       "      <th>1</th>\n",
       "      <td>132.000000</td>\n",
       "      <td>0.006380</td>\n",
       "      <td>0.0</td>\n",
       "      <td>0.006380</td>\n",
       "      <td>0.003190</td>\n",
       "      <td>0.0</td>\n",
       "      <td>0.0</td>\n",
       "      <td>17.0</td>\n",
       "      <td>2.1</td>\n",
       "      <td>0.0</td>\n",
       "      <td>10.4</td>\n",
       "      <td>130.0</td>\n",
       "      <td>0.000000</td>\n",
       "      <td>1.0</td>\n",
       "    </tr>\n",
       "    <tr>\n",
       "      <th>2</th>\n",
       "      <td>133.000000</td>\n",
       "      <td>0.003322</td>\n",
       "      <td>0.0</td>\n",
       "      <td>0.008306</td>\n",
       "      <td>0.003322</td>\n",
       "      <td>0.0</td>\n",
       "      <td>0.0</td>\n",
       "      <td>16.0</td>\n",
       "      <td>2.1</td>\n",
       "      <td>0.0</td>\n",
       "      <td>13.4</td>\n",
       "      <td>130.0</td>\n",
       "      <td>0.000000</td>\n",
       "      <td>1.0</td>\n",
       "    </tr>\n",
       "    <tr>\n",
       "      <th>3</th>\n",
       "      <td>134.000000</td>\n",
       "      <td>0.002561</td>\n",
       "      <td>0.0</td>\n",
       "      <td>0.007742</td>\n",
       "      <td>0.002561</td>\n",
       "      <td>0.0</td>\n",
       "      <td>0.0</td>\n",
       "      <td>16.0</td>\n",
       "      <td>2.4</td>\n",
       "      <td>0.0</td>\n",
       "      <td>23.0</td>\n",
       "      <td>117.0</td>\n",
       "      <td>1.000000</td>\n",
       "      <td>1.0</td>\n",
       "    </tr>\n",
       "    <tr>\n",
       "      <th>4</th>\n",
       "      <td>131.948232</td>\n",
       "      <td>0.006515</td>\n",
       "      <td>0.0</td>\n",
       "      <td>0.008143</td>\n",
       "      <td>0.000000</td>\n",
       "      <td>0.0</td>\n",
       "      <td>0.0</td>\n",
       "      <td>16.0</td>\n",
       "      <td>2.4</td>\n",
       "      <td>0.0</td>\n",
       "      <td>19.9</td>\n",
       "      <td>117.0</td>\n",
       "      <td>1.000000</td>\n",
       "      <td>1.0</td>\n",
       "    </tr>\n",
       "  </tbody>\n",
       "</table>\n",
       "</div>"
      ],
      "text/plain": [
       "           LB        AC   FM        UC        DL   DS   DP  ASTV  MSTV  ALTV  \\\n",
       "0  120.000000  0.000000  0.0  0.000000  0.000000  0.0  0.0  73.0   0.5  43.0   \n",
       "1  132.000000  0.006380  0.0  0.006380  0.003190  0.0  0.0  17.0   2.1   0.0   \n",
       "2  133.000000  0.003322  0.0  0.008306  0.003322  0.0  0.0  16.0   2.1   0.0   \n",
       "3  134.000000  0.002561  0.0  0.007742  0.002561  0.0  0.0  16.0   2.4   0.0   \n",
       "4  131.948232  0.006515  0.0  0.008143  0.000000  0.0  0.0  16.0   2.4   0.0   \n",
       "\n",
       "   MLTV  Width  Tendency  NSP  \n",
       "0   2.4   64.0  0.999926  2.0  \n",
       "1  10.4  130.0  0.000000  1.0  \n",
       "2  13.4  130.0  0.000000  1.0  \n",
       "3  23.0  117.0  1.000000  1.0  \n",
       "4  19.9  117.0  1.000000  1.0  "
      ]
     },
     "execution_count": 46,
     "metadata": {},
     "output_type": "execute_result"
    }
   ],
   "source": [
    "df.head()"
   ]
  },
  {
   "cell_type": "code",
   "execution_count": 47,
   "id": "11065091",
   "metadata": {},
   "outputs": [
    {
     "data": {
      "text/html": [
       "<div>\n",
       "<style scoped>\n",
       "    .dataframe tbody tr th:only-of-type {\n",
       "        vertical-align: middle;\n",
       "    }\n",
       "\n",
       "    .dataframe tbody tr th {\n",
       "        vertical-align: top;\n",
       "    }\n",
       "\n",
       "    .dataframe thead th {\n",
       "        text-align: right;\n",
       "    }\n",
       "</style>\n",
       "<table border=\"1\" class=\"dataframe\">\n",
       "  <thead>\n",
       "    <tr style=\"text-align: right;\">\n",
       "      <th></th>\n",
       "      <th>LB</th>\n",
       "      <th>AC</th>\n",
       "      <th>FM</th>\n",
       "      <th>UC</th>\n",
       "      <th>DL</th>\n",
       "      <th>DS</th>\n",
       "      <th>DP</th>\n",
       "      <th>ASTV</th>\n",
       "      <th>MSTV</th>\n",
       "      <th>ALTV</th>\n",
       "      <th>MLTV</th>\n",
       "      <th>Width</th>\n",
       "      <th>Tendency</th>\n",
       "      <th>NSP</th>\n",
       "    </tr>\n",
       "  </thead>\n",
       "  <tbody>\n",
       "    <tr>\n",
       "      <th>LB</th>\n",
       "      <td>1.000000</td>\n",
       "      <td>-0.062801</td>\n",
       "      <td>0.018776</td>\n",
       "      <td>-0.166201</td>\n",
       "      <td>-0.126536</td>\n",
       "      <td>-0.005438</td>\n",
       "      <td>-0.047724</td>\n",
       "      <td>0.241857</td>\n",
       "      <td>-0.169561</td>\n",
       "      <td>0.210446</td>\n",
       "      <td>-0.003457</td>\n",
       "      <td>-0.118421</td>\n",
       "      <td>0.236864</td>\n",
       "      <td>0.131843</td>\n",
       "    </tr>\n",
       "    <tr>\n",
       "      <th>AC</th>\n",
       "      <td>-0.062801</td>\n",
       "      <td>1.000000</td>\n",
       "      <td>0.009768</td>\n",
       "      <td>0.071621</td>\n",
       "      <td>-0.093449</td>\n",
       "      <td>-0.033081</td>\n",
       "      <td>-0.083226</td>\n",
       "      <td>-0.230470</td>\n",
       "      <td>0.132962</td>\n",
       "      <td>-0.269807</td>\n",
       "      <td>-0.104811</td>\n",
       "      <td>0.234549</td>\n",
       "      <td>0.031958</td>\n",
       "      <td>-0.311830</td>\n",
       "    </tr>\n",
       "    <tr>\n",
       "      <th>FM</th>\n",
       "      <td>0.018776</td>\n",
       "      <td>0.009768</td>\n",
       "      <td>1.000000</td>\n",
       "      <td>-0.053226</td>\n",
       "      <td>0.009718</td>\n",
       "      <td>0.029899</td>\n",
       "      <td>0.121274</td>\n",
       "      <td>-0.032691</td>\n",
       "      <td>0.017055</td>\n",
       "      <td>-0.011936</td>\n",
       "      <td>-0.006237</td>\n",
       "      <td>0.097282</td>\n",
       "      <td>-0.018338</td>\n",
       "      <td>0.074048</td>\n",
       "    </tr>\n",
       "    <tr>\n",
       "      <th>UC</th>\n",
       "      <td>-0.166201</td>\n",
       "      <td>0.071621</td>\n",
       "      <td>-0.053226</td>\n",
       "      <td>1.000000</td>\n",
       "      <td>0.190128</td>\n",
       "      <td>-0.006922</td>\n",
       "      <td>0.070501</td>\n",
       "      <td>-0.181161</td>\n",
       "      <td>0.189406</td>\n",
       "      <td>-0.227304</td>\n",
       "      <td>-0.049351</td>\n",
       "      <td>0.107083</td>\n",
       "      <td>-0.066463</td>\n",
       "      <td>-0.185001</td>\n",
       "    </tr>\n",
       "    <tr>\n",
       "      <th>DL</th>\n",
       "      <td>-0.126536</td>\n",
       "      <td>-0.093449</td>\n",
       "      <td>0.009718</td>\n",
       "      <td>0.190128</td>\n",
       "      <td>1.000000</td>\n",
       "      <td>0.058430</td>\n",
       "      <td>0.144940</td>\n",
       "      <td>-0.069361</td>\n",
       "      <td>0.410102</td>\n",
       "      <td>-0.186967</td>\n",
       "      <td>-0.165198</td>\n",
       "      <td>0.408578</td>\n",
       "      <td>-0.023490</td>\n",
       "      <td>0.025342</td>\n",
       "    </tr>\n",
       "    <tr>\n",
       "      <th>DS</th>\n",
       "      <td>-0.005438</td>\n",
       "      <td>-0.033081</td>\n",
       "      <td>0.029899</td>\n",
       "      <td>-0.006922</td>\n",
       "      <td>0.058430</td>\n",
       "      <td>1.000000</td>\n",
       "      <td>0.004285</td>\n",
       "      <td>0.008425</td>\n",
       "      <td>0.016077</td>\n",
       "      <td>-0.004392</td>\n",
       "      <td>0.034349</td>\n",
       "      <td>0.040831</td>\n",
       "      <td>-0.015398</td>\n",
       "      <td>0.065400</td>\n",
       "    </tr>\n",
       "    <tr>\n",
       "      <th>DP</th>\n",
       "      <td>-0.047724</td>\n",
       "      <td>-0.083226</td>\n",
       "      <td>0.121274</td>\n",
       "      <td>0.070501</td>\n",
       "      <td>0.144940</td>\n",
       "      <td>0.004285</td>\n",
       "      <td>1.000000</td>\n",
       "      <td>0.038117</td>\n",
       "      <td>0.119250</td>\n",
       "      <td>-0.077654</td>\n",
       "      <td>-0.114084</td>\n",
       "      <td>0.175335</td>\n",
       "      <td>-0.130395</td>\n",
       "      <td>0.294472</td>\n",
       "    </tr>\n",
       "    <tr>\n",
       "      <th>ASTV</th>\n",
       "      <td>0.241857</td>\n",
       "      <td>-0.230470</td>\n",
       "      <td>-0.032691</td>\n",
       "      <td>-0.181161</td>\n",
       "      <td>-0.069361</td>\n",
       "      <td>0.008425</td>\n",
       "      <td>0.038117</td>\n",
       "      <td>1.000000</td>\n",
       "      <td>-0.293882</td>\n",
       "      <td>0.357497</td>\n",
       "      <td>-0.219728</td>\n",
       "      <td>-0.206931</td>\n",
       "      <td>-0.010892</td>\n",
       "      <td>0.421313</td>\n",
       "    </tr>\n",
       "    <tr>\n",
       "      <th>MSTV</th>\n",
       "      <td>-0.169561</td>\n",
       "      <td>0.132962</td>\n",
       "      <td>0.017055</td>\n",
       "      <td>0.189406</td>\n",
       "      <td>0.410102</td>\n",
       "      <td>0.016077</td>\n",
       "      <td>0.119250</td>\n",
       "      <td>-0.293882</td>\n",
       "      <td>1.000000</td>\n",
       "      <td>-0.291935</td>\n",
       "      <td>0.028779</td>\n",
       "      <td>0.432822</td>\n",
       "      <td>-0.036660</td>\n",
       "      <td>-0.094630</td>\n",
       "    </tr>\n",
       "    <tr>\n",
       "      <th>ALTV</th>\n",
       "      <td>0.210446</td>\n",
       "      <td>-0.269807</td>\n",
       "      <td>-0.011936</td>\n",
       "      <td>-0.227304</td>\n",
       "      <td>-0.186967</td>\n",
       "      <td>-0.004392</td>\n",
       "      <td>-0.077654</td>\n",
       "      <td>0.357497</td>\n",
       "      <td>-0.291935</td>\n",
       "      <td>1.000000</td>\n",
       "      <td>-0.107568</td>\n",
       "      <td>-0.345732</td>\n",
       "      <td>0.036722</td>\n",
       "      <td>0.365357</td>\n",
       "    </tr>\n",
       "    <tr>\n",
       "      <th>MLTV</th>\n",
       "      <td>-0.003457</td>\n",
       "      <td>-0.104811</td>\n",
       "      <td>-0.006237</td>\n",
       "      <td>-0.049351</td>\n",
       "      <td>-0.165198</td>\n",
       "      <td>0.034349</td>\n",
       "      <td>-0.114084</td>\n",
       "      <td>-0.219728</td>\n",
       "      <td>0.028779</td>\n",
       "      <td>-0.107568</td>\n",
       "      <td>1.000000</td>\n",
       "      <td>0.058578</td>\n",
       "      <td>0.116361</td>\n",
       "      <td>-0.113674</td>\n",
       "    </tr>\n",
       "    <tr>\n",
       "      <th>Width</th>\n",
       "      <td>-0.118421</td>\n",
       "      <td>0.234549</td>\n",
       "      <td>0.097282</td>\n",
       "      <td>0.107083</td>\n",
       "      <td>0.408578</td>\n",
       "      <td>0.040831</td>\n",
       "      <td>0.175335</td>\n",
       "      <td>-0.206931</td>\n",
       "      <td>0.432822</td>\n",
       "      <td>-0.345732</td>\n",
       "      <td>0.058578</td>\n",
       "      <td>1.000000</td>\n",
       "      <td>0.081353</td>\n",
       "      <td>-0.067421</td>\n",
       "    </tr>\n",
       "    <tr>\n",
       "      <th>Tendency</th>\n",
       "      <td>0.236864</td>\n",
       "      <td>0.031958</td>\n",
       "      <td>-0.018338</td>\n",
       "      <td>-0.066463</td>\n",
       "      <td>-0.023490</td>\n",
       "      <td>-0.015398</td>\n",
       "      <td>-0.130395</td>\n",
       "      <td>-0.010892</td>\n",
       "      <td>-0.036660</td>\n",
       "      <td>0.036722</td>\n",
       "      <td>0.116361</td>\n",
       "      <td>0.081353</td>\n",
       "      <td>1.000000</td>\n",
       "      <td>-0.106238</td>\n",
       "    </tr>\n",
       "    <tr>\n",
       "      <th>NSP</th>\n",
       "      <td>0.131843</td>\n",
       "      <td>-0.311830</td>\n",
       "      <td>0.074048</td>\n",
       "      <td>-0.185001</td>\n",
       "      <td>0.025342</td>\n",
       "      <td>0.065400</td>\n",
       "      <td>0.294472</td>\n",
       "      <td>0.421313</td>\n",
       "      <td>-0.094630</td>\n",
       "      <td>0.365357</td>\n",
       "      <td>-0.113674</td>\n",
       "      <td>-0.067421</td>\n",
       "      <td>-0.106238</td>\n",
       "      <td>1.000000</td>\n",
       "    </tr>\n",
       "  </tbody>\n",
       "</table>\n",
       "</div>"
      ],
      "text/plain": [
       "                LB        AC        FM        UC        DL        DS  \\\n",
       "LB        1.000000 -0.062801  0.018776 -0.166201 -0.126536 -0.005438   \n",
       "AC       -0.062801  1.000000  0.009768  0.071621 -0.093449 -0.033081   \n",
       "FM        0.018776  0.009768  1.000000 -0.053226  0.009718  0.029899   \n",
       "UC       -0.166201  0.071621 -0.053226  1.000000  0.190128 -0.006922   \n",
       "DL       -0.126536 -0.093449  0.009718  0.190128  1.000000  0.058430   \n",
       "DS       -0.005438 -0.033081  0.029899 -0.006922  0.058430  1.000000   \n",
       "DP       -0.047724 -0.083226  0.121274  0.070501  0.144940  0.004285   \n",
       "ASTV      0.241857 -0.230470 -0.032691 -0.181161 -0.069361  0.008425   \n",
       "MSTV     -0.169561  0.132962  0.017055  0.189406  0.410102  0.016077   \n",
       "ALTV      0.210446 -0.269807 -0.011936 -0.227304 -0.186967 -0.004392   \n",
       "MLTV     -0.003457 -0.104811 -0.006237 -0.049351 -0.165198  0.034349   \n",
       "Width    -0.118421  0.234549  0.097282  0.107083  0.408578  0.040831   \n",
       "Tendency  0.236864  0.031958 -0.018338 -0.066463 -0.023490 -0.015398   \n",
       "NSP       0.131843 -0.311830  0.074048 -0.185001  0.025342  0.065400   \n",
       "\n",
       "                DP      ASTV      MSTV      ALTV      MLTV     Width  \\\n",
       "LB       -0.047724  0.241857 -0.169561  0.210446 -0.003457 -0.118421   \n",
       "AC       -0.083226 -0.230470  0.132962 -0.269807 -0.104811  0.234549   \n",
       "FM        0.121274 -0.032691  0.017055 -0.011936 -0.006237  0.097282   \n",
       "UC        0.070501 -0.181161  0.189406 -0.227304 -0.049351  0.107083   \n",
       "DL        0.144940 -0.069361  0.410102 -0.186967 -0.165198  0.408578   \n",
       "DS        0.004285  0.008425  0.016077 -0.004392  0.034349  0.040831   \n",
       "DP        1.000000  0.038117  0.119250 -0.077654 -0.114084  0.175335   \n",
       "ASTV      0.038117  1.000000 -0.293882  0.357497 -0.219728 -0.206931   \n",
       "MSTV      0.119250 -0.293882  1.000000 -0.291935  0.028779  0.432822   \n",
       "ALTV     -0.077654  0.357497 -0.291935  1.000000 -0.107568 -0.345732   \n",
       "MLTV     -0.114084 -0.219728  0.028779 -0.107568  1.000000  0.058578   \n",
       "Width     0.175335 -0.206931  0.432822 -0.345732  0.058578  1.000000   \n",
       "Tendency -0.130395 -0.010892 -0.036660  0.036722  0.116361  0.081353   \n",
       "NSP       0.294472  0.421313 -0.094630  0.365357 -0.113674 -0.067421   \n",
       "\n",
       "          Tendency       NSP  \n",
       "LB        0.236864  0.131843  \n",
       "AC        0.031958 -0.311830  \n",
       "FM       -0.018338  0.074048  \n",
       "UC       -0.066463 -0.185001  \n",
       "DL       -0.023490  0.025342  \n",
       "DS       -0.015398  0.065400  \n",
       "DP       -0.130395  0.294472  \n",
       "ASTV     -0.010892  0.421313  \n",
       "MSTV     -0.036660 -0.094630  \n",
       "ALTV      0.036722  0.365357  \n",
       "MLTV      0.116361 -0.113674  \n",
       "Width     0.081353 -0.067421  \n",
       "Tendency  1.000000 -0.106238  \n",
       "NSP      -0.106238  1.000000  "
      ]
     },
     "execution_count": 47,
     "metadata": {},
     "output_type": "execute_result"
    }
   ],
   "source": [
    "df.corr()"
   ]
  },
  {
   "cell_type": "code",
   "execution_count": 48,
   "id": "2f6d2441",
   "metadata": {},
   "outputs": [
    {
     "data": {
      "text/plain": [
       "<Axes: >"
      ]
     },
     "execution_count": 48,
     "metadata": {},
     "output_type": "execute_result"
    },
    {
     "data": {
      "image/png": "[encoded data removed]",
      "text/plain": [
       "<Figure size 640x480 with 2 Axes>"
      ]
     },
     "metadata": {},
     "output_type": "display_data"
    }
   ],
   "source": [
    "sns.heatmap(df.corr(), annot = True)"
   ]
  },
  {
   "cell_type": "code",
   "execution_count": 49,
   "id": "70ed6ad4",
   "metadata": {},
   "outputs": [
    {
     "data": {
      "text/plain": [
       "<Axes: >"
      ]
     },
     "execution_count": 49,
     "metadata": {},
     "output_type": "execute_result"
    },
    {
     "data": {
      "image/png": "[encoded data removed]",
      "text/plain": [
       "<Figure size 640x480 with 1 Axes>"
      ]
     },
     "metadata": {},
     "output_type": "display_data"
    }
   ],
   "source": [
    "sns.boxplot(df)"
   ]
  },
  {
   "cell_type": "code",
   "execution_count": 50,
   "id": "1022c487",
   "metadata": {},
   "outputs": [],
   "source": [
    "minimum,Q1,Q2,Q3,Maximum = np.quantile(df['LB'],[0,0.25,0.5,0.75,1.0])\n",
    "IQR = Q3-Q1\n",
    "lower_fence = Q1 - 1.5*(IQR)\n",
    "upper_fence = Q3 + 1.5*(IQR)"
   ]
  },
  {
   "cell_type": "code",
   "execution_count": 51,
   "id": "2851bc7e",
   "metadata": {},
   "outputs": [
    {
     "data": {
      "text/plain": [
       "14.0"
      ]
     },
     "execution_count": 51,
     "metadata": {},
     "output_type": "execute_result"
    }
   ],
   "source": [
    "IQR"
   ]
  },
  {
   "cell_type": "code",
   "execution_count": 52,
   "id": "1be21017",
   "metadata": {},
   "outputs": [
    {
     "data": {
      "text/plain": [
       "105.0"
      ]
     },
     "execution_count": 52,
     "metadata": {},
     "output_type": "execute_result"
    }
   ],
   "source": [
    "lower_fence "
   ]
  },
  {
   "cell_type": "code",
   "execution_count": 53,
   "id": "251a9afc",
   "metadata": {},
   "outputs": [
    {
     "data": {
      "text/plain": [
       "161.0"
      ]
     },
     "execution_count": 53,
     "metadata": {},
     "output_type": "execute_result"
    }
   ],
   "source": [
    "upper_fence"
   ]
  },
  {
   "cell_type": "code",
   "execution_count": 54,
   "id": "ea3de01e",
   "metadata": {},
   "outputs": [],
   "source": [
    "outliers = []\n",
    "\n",
    "for i in df['LB']:\n",
    "    if i >= lower_fence and i <= upper_fence :\n",
    "        pass\n",
    "    else:\n",
    "        outliers.append(i)"
   ]
  },
  {
   "cell_type": "code",
   "execution_count": 55,
   "id": "07fb50e7",
   "metadata": {},
   "outputs": [
    {
     "data": {
      "text/plain": [
       "[52.0,\n",
       " 214.0,\n",
       " 214.0,\n",
       " 214.0,\n",
       " 52.0,\n",
       " 51.84248683343552,\n",
       " 214.0,\n",
       " 214.0,\n",
       " 214.0,\n",
       " 52.18854680260237]"
      ]
     },
     "execution_count": 55,
     "metadata": {},
     "output_type": "execute_result"
    }
   ],
   "source": [
    "outliers"
   ]
  },
  {
   "cell_type": "code",
   "execution_count": 56,
   "id": "9c0c6993",
   "metadata": {},
   "outputs": [
    {
     "data": {
      "text/plain": [
       "{'whiskers': [<matplotlib.lines.Line2D at 0x20688d32a10>,\n",
       "  <matplotlib.lines.Line2D at 0x20688d32cb0>],\n",
       " 'caps': [<matplotlib.lines.Line2D at 0x20688d32f50>,\n",
       "  <matplotlib.lines.Line2D at 0x20688d331f0>],\n",
       " 'boxes': [<matplotlib.lines.Line2D at 0x20688d32770>],\n",
       " 'medians': [<matplotlib.lines.Line2D at 0x20688d33490>],\n",
       " 'fliers': [<matplotlib.lines.Line2D at 0x20688d33730>],\n",
       " 'means': []}"
      ]
     },
     "execution_count": 56,
     "metadata": {},
     "output_type": "execute_result"
    },
    {
     "data": {
      "image/png": "[encoded data removed]",
      "text/plain": [
       "<Figure size 640x480 with 1 Axes>"
      ]
     },
     "metadata": {},
     "output_type": "display_data"
    }
   ],
   "source": [
    "plt.boxplot(df['LB'])"
   ]
  },
  {
   "cell_type": "code",
   "execution_count": 57,
   "id": "43010047",
   "metadata": {},
   "outputs": [],
   "source": [
    "def finding_outlier(value):\n",
    "    minimum,Q1,Q2,Q3,Maximum = np.quantile(value,[0,0.25,0.5,0.75,1.0])\n",
    "    IQR = Q3-Q1\n",
    "    lower_fence = Q1 - 1.5*(IQR)\n",
    "    upper_fence = Q3 + 1.5*(IQR)\n",
    "\n",
    "    outliers = []\n",
    "    for i in value :\n",
    "        if i >= lower_fence and i <= upper_fence:\n",
    "            pass\n",
    "        else:\n",
    "            outliers.append(i)\n",
    "    return outliers"
   ]
  },
  {
   "cell_type": "code",
   "execution_count": 58,
   "id": "93b49606",
   "metadata": {},
   "outputs": [
    {
     "data": {
      "text/plain": [
       "[52.0,\n",
       " 214.0,\n",
       " 214.0,\n",
       " 214.0,\n",
       " 52.0,\n",
       " 51.84248683343552,\n",
       " 214.0,\n",
       " 214.0,\n",
       " 214.0,\n",
       " 52.18854680260237]"
      ]
     },
     "execution_count": 58,
     "metadata": {},
     "output_type": "execute_result"
    }
   ],
   "source": [
    "finding_outlier(df['LB'])"
   ]
  },
  {
   "cell_type": "code",
   "execution_count": 59,
   "id": "3dd5a68f",
   "metadata": {},
   "outputs": [
    {
     "data": {
      "text/plain": [
       "Index(['LB', 'AC', 'FM', 'UC', 'DL', 'DS', 'DP', 'ASTV', 'MSTV', 'ALTV',\n",
       "       'MLTV', 'Width', 'Tendency', 'NSP'],\n",
       "      dtype='object')"
      ]
     },
     "execution_count": 59,
     "metadata": {},
     "output_type": "execute_result"
    }
   ],
   "source": [
    "df.columns"
   ]
  },
  {
   "cell_type": "code",
   "execution_count": 60,
   "id": "839de5b9",
   "metadata": {},
   "outputs": [
    {
     "data": {
      "text/plain": [
       "[0.038567494,\n",
       " -0.019283747,\n",
       " 0.014705882,\n",
       " 0.014230272,\n",
       " 0.038567494,\n",
       " -0.019283747,\n",
       " 0.017241379,\n",
       " 0.014178482,\n",
       " 0.0155521,\n",
       " 0.015258216,\n",
       " 0.014178482,\n",
       " 0.014725569,\n",
       " 0.01501251,\n",
       " 0.014064698,\n",
       " 0.019283747,\n",
       " 0.0155902,\n",
       " 0.016423358,\n",
       " 0.015781923,\n",
       " 0.014806378,\n",
       " 0.038567494,\n",
       " 0.017391304,\n",
       " -0.019283747,\n",
       " 0.014023732,\n",
       " 0.014906832,\n",
       " 0.014302741,\n",
       " 0.015642458,\n",
       " 0.017667845,\n",
       " 0.01734104,\n",
       " 0.038567494,\n",
       " 0.017857143,\n",
       " 0.014319809,\n",
       " 0.01511335,\n",
       " 0.0144,\n",
       " -0.019283747,\n",
       " 0.014067995,\n",
       " 0.015906681,\n",
       " 0.017073171,\n",
       " 0.015165877,\n",
       " 0.014444444,\n",
       " 0.016,\n",
       " 0.014842301,\n",
       " 0.038567494,\n",
       " 0.038567494]"
      ]
     },
     "execution_count": 60,
     "metadata": {},
     "output_type": "execute_result"
    }
   ],
   "source": [
    "finding_outlier(df['AC'])"
   ]
  },
  {
   "cell_type": "code",
   "execution_count": 61,
   "id": "b91ff4c3",
   "metadata": {},
   "outputs": [
    {
     "data": {
      "text/plain": [
       "<Axes: >"
      ]
     },
     "execution_count": 61,
     "metadata": {},
     "output_type": "execute_result"
    },
    {
     "data": {
      "image/png": "[encoded data removed]",
      "text/plain": [
       "<Figure size 640x480 with 1 Axes>"
      ]
     },
     "metadata": {},
     "output_type": "display_data"
    }
   ],
   "source": [
    "sns.boxplot(df['AC'])"
   ]
  },
  {
   "cell_type": "code",
   "execution_count": 62,
   "id": "fb0a4de6",
   "metadata": {},
   "outputs": [
    {
     "data": {
      "text/plain": [
       "[0.072335025,\n",
       " 0.222390318,\n",
       " 0.407839867,\n",
       " 0.380222841,\n",
       " 0.441400304,\n",
       " 0.382621951,\n",
       " 0.450924609,\n",
       " 0.469250211,\n",
       " 0.340044743,\n",
       " 0.425,\n",
       " 0.3351206643755181,\n",
       " 0.135112594,\n",
       " 0.098784195,\n",
       " 0.107589658,\n",
       " 0.111898017,\n",
       " 0.088642659,\n",
       " 0.102585488,\n",
       " 0.084977238,\n",
       " 0.109090909,\n",
       " 0.079232694,\n",
       " 0.064918851,\n",
       " 0.05465587,\n",
       " 0.057547957,\n",
       " 0.047040971,\n",
       " 0.037936267,\n",
       " 0.011583012,\n",
       " 0.017994859,\n",
       " 0.020143885,\n",
       " 0.008912656,\n",
       " 0.009771987,\n",
       " 0.007668712,\n",
       " 0.007211538,\n",
       " 0.008403361,\n",
       " 0.0299169230015415,\n",
       " 0.025873221,\n",
       " 0.107061503,\n",
       " 0.009111617,\n",
       " 0.006535948,\n",
       " 0.008340284,\n",
       " 0.012519562,\n",
       " 0.015822785,\n",
       " 0.029190992,\n",
       " 0.049792531,\n",
       " 0.053140097,\n",
       " 0.057529611,\n",
       " 0.008658009,\n",
       " 0.010989011,\n",
       " 0.007506255,\n",
       " 0.007032349,\n",
       " 0.007246377,\n",
       " 0.013344454,\n",
       " 0.012704174,\n",
       " 0.016393443,\n",
       " 0.007707129,\n",
       " 0.014814815,\n",
       " 0.007556675,\n",
       " 0.01026694,\n",
       " 0.022284123,\n",
       " 0.026315789,\n",
       " 0.015151515,\n",
       " 0.006968641,\n",
       " 0.01501251,\n",
       " 0.009584665,\n",
       " 0.00990099,\n",
       " 0.021052632,\n",
       " 0.007506255,\n",
       " 0.015846539,\n",
       " 0.017716535,\n",
       " 0.012793177,\n",
       " 0.016759777,\n",
       " 0.015625,\n",
       " 0.018907563,\n",
       " -0.480633803,\n",
       " 0.008,\n",
       " 0.008908686,\n",
       " 0.006672227,\n",
       " 0.00867052,\n",
       " 0.009975384,\n",
       " 0.009163803,\n",
       " 0.008340284,\n",
       " 0.008561644,\n",
       " 0.010135135,\n",
       " 0.006525285,\n",
       " 0.009070295,\n",
       " 0.012552301,\n",
       " 0.013344454,\n",
       " 0.018255578,\n",
       " 0.01501251,\n",
       " 0.012091898,\n",
       " 0.019117647,\n",
       " 0.025104603,\n",
       " 0.011676397,\n",
       " 0.006493506,\n",
       " 0.020408163,\n",
       " 0.018348624,\n",
       " 0.020249221,\n",
       " 0.020618557,\n",
       " 0.020249221,\n",
       " 0.006972112,\n",
       " 0.006726457,\n",
       " 0.014178482,\n",
       " 0.020558003,\n",
       " 0.021684737,\n",
       " 0.024509804,\n",
       " 0.021684737,\n",
       " 0.024096386,\n",
       " 0.028301887,\n",
       " 0.015625,\n",
       " 0.01501251,\n",
       " 0.018541409,\n",
       " 0.024213075,\n",
       " 0.009036145,\n",
       " 0.018541409,\n",
       " 0.010619469,\n",
       " 0.015846539,\n",
       " 0.019157088,\n",
       " 0.021276596,\n",
       " 0.006593407,\n",
       " 0.007211538,\n",
       " 0.01000834,\n",
       " 0.018828452,\n",
       " 0.007843137,\n",
       " 0.019448947,\n",
       " 0.022044088,\n",
       " 0.007029877,\n",
       " 0.007557632,\n",
       " 0.008528785,\n",
       " 0.009174312,\n",
       " 0.008908686,\n",
       " 0.00887574,\n",
       " 0.011428571,\n",
       " 0.012510425,\n",
       " 0.013303769,\n",
       " 0.015544041,\n",
       " 0.006430868,\n",
       " 0.018648019,\n",
       " 0.012605042,\n",
       " 0.008241758,\n",
       " 0.009584997,\n",
       " 0.009324009,\n",
       " 0.012012012,\n",
       " 0.009310987,\n",
       " 0.0171875,\n",
       " 0.023352794,\n",
       " 0.022727273,\n",
       " 0.020107239,\n",
       " 0.019950125,\n",
       " 0.024,\n",
       " 0.035029191,\n",
       " 0.054200542,\n",
       " 0.029673591,\n",
       " 0.048076923,\n",
       " 0.088235294,\n",
       " 0.03021978,\n",
       " 0.053719008,\n",
       " 0.042553191,\n",
       " 0.961267606,\n",
       " 0.00877193,\n",
       " 0.00678733,\n",
       " 0.05380117,\n",
       " 0.007366483,\n",
       " 0.011251758,\n",
       " 0.058381985,\n",
       " 0.052434457,\n",
       " 0.085727429,\n",
       " 0.091047041,\n",
       " 0.026345934,\n",
       " 0.033123028,\n",
       " 0.091743119,\n",
       " 0.083981337,\n",
       " 0.115023474,\n",
       " 0.084170854,\n",
       " 0.01501251,\n",
       " 0.017402945,\n",
       " 0.013344454,\n",
       " 0.013812155,\n",
       " 0.013755158,\n",
       " 0.0161042289574149,\n",
       " 0.035029191,\n",
       " 0.032998565,\n",
       " 0.029462738,\n",
       " 0.040522876,\n",
       " 0.024186822,\n",
       " 0.039755352,\n",
       " 0.026688907,\n",
       " 0.029005525,\n",
       " 0.030645161,\n",
       " 0.025641026,\n",
       " 0.062552127,\n",
       " 0.0604782,\n",
       " 0.050420168,\n",
       " 0.085399449,\n",
       " 0.071269488,\n",
       " 0.060218978,\n",
       " 0.028708134,\n",
       " 0.007413472,\n",
       " 0.007912957,\n",
       " 0.007506255,\n",
       " -0.480633803,\n",
       " 0.019591141,\n",
       " 0.010162602,\n",
       " 0.026946108,\n",
       " 0.017291066,\n",
       " 0.018469657,\n",
       " 0.010043042,\n",
       " 0.008340284,\n",
       " 0.010118044,\n",
       " 0.007440476,\n",
       " 0.006518905,\n",
       " 0.009174312,\n",
       " 0.01369863,\n",
       " 0.009746589,\n",
       " 0.012953368,\n",
       " 0.025056948,\n",
       " 0.009174312,\n",
       " 0.013422819,\n",
       " 0.016680567,\n",
       " 0.016927083,\n",
       " 0.020850709,\n",
       " 0.024539877,\n",
       " 0.006672227,\n",
       " 0.017621145,\n",
       " 0.012510425,\n",
       " 0.016666667,\n",
       " 0.009868421,\n",
       " 0.006672227,\n",
       " 0.007668712,\n",
       " 0.305755396,\n",
       " 0.2994557130906241,\n",
       " 0.139282736,\n",
       " 0.189320388,\n",
       " 0.013661202,\n",
       " 0.156862745,\n",
       " 0.235489221,\n",
       " 0.407839867,\n",
       " 0.360416667,\n",
       " 0.45532646,\n",
       " 0.442724458,\n",
       " 0.470391993,\n",
       " 0.477203647,\n",
       " 0.445667125,\n",
       " 0.480633803,\n",
       " 0.369474562,\n",
       " 0.334898279,\n",
       " 0.42989418,\n",
       " 0.346112886,\n",
       " 0.322742475,\n",
       " 0.375438596,\n",
       " 0.34591195,\n",
       " 0.352941176,\n",
       " 0.007228916,\n",
       " 0.009557945,\n",
       " 0.007490637,\n",
       " 0.021111111,\n",
       " 0.016692438,\n",
       " 0.961267606,\n",
       " 0.015846539,\n",
       " 0.010928962,\n",
       " 0.007984032,\n",
       " 0.017278618,\n",
       " 0.016629712,\n",
       " 0.020061728,\n",
       " 0.030054645,\n",
       " 0.012139605,\n",
       " 0.042517007,\n",
       " 0.034810127,\n",
       " 0.03969129,\n",
       " 0.048452096,\n",
       " 0.011676397,\n",
       " 0.013888889,\n",
       " 0.013344454,\n",
       " 0.0109375,\n",
       " 0.006651885,\n",
       " 0.961267606,\n",
       " -0.480633803,\n",
       " -0.480633803,\n",
       " 0.007640068,\n",
       " 0.009546539,\n",
       " 0.010075567,\n",
       " 0.007048458,\n",
       " 0.00669344,\n",
       " 0.01183432,\n",
       " 0.01174743,\n",
       " 0.011532125,\n",
       " 0.01443299,\n",
       " 0.007368421,\n",
       " 0.007822686,\n",
       " 0.01038961,\n",
       " 0.012068966,\n",
       " 0.009337068,\n",
       " 0.010840108,\n",
       " 0.009640666,\n",
       " 0.013618677,\n",
       " 0.010535558,\n",
       " 0.009680542,\n",
       " 0.009673519,\n",
       " 0.009724473,\n",
       " 0.010204082,\n",
       " 0.006751055,\n",
       " 0.010036496,\n",
       " 0.011450382,\n",
       " 0.00990991,\n",
       " 0.015533981,\n",
       " 0.009700176,\n",
       " 0.007915567,\n",
       " 0.008517888,\n",
       " 0.008274232,\n",
       " 0.01056338,\n",
       " 0.010781671,\n",
       " 0.016863406,\n",
       " 0.01928934,\n",
       " 0.018518519,\n",
       " 0.02484472,\n",
       " 0.027932961,\n",
       " 0.048134777,\n",
       " 0.043052838,\n",
       " 0.031589339,\n",
       " 0.04,\n",
       " 0.050908618,\n",
       " 0.036295369,\n",
       " 0.037037037,\n",
       " 0.049944506,\n",
       " 0.034883721,\n",
       " 0.0486565,\n",
       " 0.049128368,\n",
       " 0.040712468,\n",
       " 0.05,\n",
       " 0.048083624,\n",
       " 0.054320988,\n",
       " 0.051687764,\n",
       " -0.480633803,\n",
       " -0.480633803,\n",
       " -0.005105536,\n",
       " 0.007668712,\n",
       " 0.007117438,\n",
       " 0.006564551,\n",
       " 0.006603774,\n",
       " 0.007675439,\n",
       " 0.015494636,\n",
       " 0.016817594,\n",
       " 0.008196721,\n",
       " 0.009433962,\n",
       " 0.008860759,\n",
       " 0.008652658,\n",
       " 0.009840098,\n",
       " 0.009356725,\n",
       " 0.961267606]"
      ]
     },
     "execution_count": 62,
     "metadata": {},
     "output_type": "execute_result"
    }
   ],
   "source": [
    "finding_outlier(df['FM'])"
   ]
  },
  {
   "cell_type": "code",
   "execution_count": 63,
   "id": "e458a4bf",
   "metadata": {},
   "outputs": [
    {
     "data": {
      "text/plain": [
       "<Axes: >"
      ]
     },
     "execution_count": 63,
     "metadata": {},
     "output_type": "execute_result"
    },
    {
     "data": {
      "image/png": "[encoded data removed]",
      "text/plain": [
       "<Figure size 640x480 with 1 Axes>"
      ]
     },
     "metadata": {},
     "output_type": "display_data"
    }
   ],
   "source": [
    "sns.boxplot(df['FM'])"
   ]
  },
  {
   "cell_type": "code",
   "execution_count": 64,
   "id": "2d80a9a0",
   "metadata": {},
   "outputs": [
    {
     "data": {
      "text/plain": [
       "[0.029850746,\n",
       " 0.029850746,\n",
       " -0.014925373,\n",
       " 0.029850746,\n",
       " 0.014925373,\n",
       " -0.014925373,\n",
       " -0.014925373,\n",
       " 0.029935908,\n",
       " 0.029850746,\n",
       " 0.0300018264803428,\n",
       " -0.014925373,\n",
       " 0.013861386,\n",
       " 0.014373717]"
      ]
     },
     "execution_count": 64,
     "metadata": {},
     "output_type": "execute_result"
    }
   ],
   "source": [
    "finding_outlier(df['UC'])"
   ]
  },
  {
   "cell_type": "code",
   "execution_count": 65,
   "id": "a1d48b3b",
   "metadata": {},
   "outputs": [
    {
     "data": {
      "text/plain": [
       "<Axes: >"
      ]
     },
     "execution_count": 65,
     "metadata": {},
     "output_type": "execute_result"
    },
    {
     "data": {
      "image/png": "[encoded data removed]",
      "text/plain": [
       "<Figure size 640x480 with 1 Axes>"
      ]
     },
     "metadata": {},
     "output_type": "display_data"
    }
   ],
   "source": [
    "sns.boxplot(df['UC'])"
   ]
  },
  {
   "cell_type": "code",
   "execution_count": 66,
   "id": "8030c3e9",
   "metadata": {},
   "outputs": [
    {
     "data": {
      "text/plain": [
       "[0.009443861,\n",
       " 0.008415147,\n",
       " 0.008340284,\n",
       " 0.012158055,\n",
       " 0.01000834,\n",
       " 0.014164306,\n",
       " 0.00963698,\n",
       " 0.008498584,\n",
       " 0.008298755,\n",
       " 0.011544012,\n",
       " 0.015384615,\n",
       " 0.03076923,\n",
       " 0.03062062,\n",
       " 0.03076923,\n",
       " 0.013850416,\n",
       " 0.010628019,\n",
       " 0.013623978,\n",
       " 0.011658031,\n",
       " 0.009334889,\n",
       " 0.01076716,\n",
       " 0.03076923,\n",
       " 0.01,\n",
       " -0.015384615,\n",
       " 0.009202454,\n",
       " -0.015384615,\n",
       " 0.00887574,\n",
       " 0.008760951,\n",
       " 0.008316008,\n",
       " -0.015384615,\n",
       " 0.010893246,\n",
       " 0.012315271,\n",
       " 0.011441648,\n",
       " 0.008474576,\n",
       " 0.00921659,\n",
       " 0.010638298,\n",
       " 0.008241758,\n",
       " 0.00877193,\n",
       " 0.00944206,\n",
       " 0.011449842,\n",
       " 0.014150943,\n",
       " 0.014742015,\n",
       " -0.015393469,\n",
       " 0.008247423,\n",
       " 0.010504202,\n",
       " 0.012594458,\n",
       " -0.015384615,\n",
       " 0.0089251,\n",
       " 0.008629518,\n",
       " 0.009174312,\n",
       " 0.00896861,\n",
       " 0.008474576,\n",
       " 0.008714597,\n",
       " 0.008438819,\n",
       " 0.012248469,\n",
       " 0.012373453,\n",
       " 0.012631579,\n",
       " 0.01119403,\n",
       " 0.01352657,\n",
       " 0.008532423,\n",
       " 0.008290155,\n",
       " 0.009268433,\n",
       " 0.010349288,\n",
       " 0.009358289,\n",
       " 0.012276786,\n",
       " 0.013064133,\n",
       " 0.01179941,\n",
       " 0.010575793,\n",
       " 0.008653846,\n",
       " 0.009623797,\n",
       " 0.008342023,\n",
       " 0.010166359,\n",
       " 0.008908686,\n",
       " 0.009406806,\n",
       " 0.009469697,\n",
       " 0.008712488,\n",
       " 0.014681892,\n",
       " 0.01042654,\n",
       " 0.011316872,\n",
       " 0.011778563,\n",
       " 0.010297483,\n",
       " 0.009443839,\n",
       " 0.008254717,\n",
       " 0.008454106,\n",
       " 0.009155646,\n",
       " 0.008464329,\n",
       " 0.008805031,\n",
       " 0.010463378,\n",
       " 0.013605442,\n",
       " 0.010638298,\n",
       " 0.013035382,\n",
       " 0.011811024,\n",
       " 0.0118368191337055,\n",
       " 0.014373717,\n",
       " 0.013400335,\n",
       " 0.013138686,\n",
       " 0.010457516,\n",
       " 0.009287926,\n",
       " 0.008474576,\n",
       " -0.015384615,\n",
       " 0.008708273,\n",
       " 0.008403361,\n",
       " 0.008948772,\n",
       " 0.008705114,\n",
       " 0.009287926,\n",
       " 0.009043928,\n",
       " 0.009433962,\n",
       " 0.009569378,\n",
       " 0.011292346,\n",
       " 0.008928571,\n",
       " 0.008383234,\n",
       " 0.010895884,\n",
       " 0.010917031,\n",
       " 0.012681159,\n",
       " 0.013453618,\n",
       " 0.010088272,\n",
       " 0.009090909,\n",
       " 0.008294931,\n",
       " 0.008264463,\n",
       " 0.009160305,\n",
       " 0.008833922,\n",
       " 0.009777778,\n",
       " 0.009433962,\n",
       " 0.009868421,\n",
       " 0.010040161,\n",
       " 0.008695652]"
      ]
     },
     "execution_count": 66,
     "metadata": {},
     "output_type": "execute_result"
    }
   ],
   "source": [
    "finding_outlier(df['DL'])"
   ]
  },
  {
   "cell_type": "code",
   "execution_count": 67,
   "id": "680836e0",
   "metadata": {},
   "outputs": [
    {
     "data": {
      "text/plain": [
       "<Axes: >"
      ]
     },
     "execution_count": 67,
     "metadata": {},
     "output_type": "execute_result"
    },
    {
     "data": {
      "image/png": "[encoded data removed]",
      "text/plain": [
       "<Figure size 640x480 with 1 Axes>"
      ]
     },
     "metadata": {},
     "output_type": "display_data"
    }
   ],
   "source": [
    "sns.boxplot(df['DL'])"
   ]
  },
  {
   "cell_type": "code",
   "execution_count": 68,
   "id": "732e5e52",
   "metadata": {},
   "outputs": [
    {
     "data": {
      "text/plain": [
       "[-1.79e-06,\n",
       " 3.667736079317775e-06,\n",
       " 2.5089835057102827e-06,\n",
       " -3.24e-06,\n",
       " 2.542969274806832e-06,\n",
       " -2.26e-06,\n",
       " 2.5089835057102827e-06,\n",
       " 2.5089835057102827e-06,\n",
       " 8.656021213687698e-07,\n",
       " 1.1654462108055476e-06,\n",
       " 5.577852468985418e-07,\n",
       " -2.22e-06,\n",
       " 2.5089835057102827e-06,\n",
       " -3.09e-06,\n",
       " -2.52e-06,\n",
       " -3.27e-06,\n",
       " 6.323448227872172e-06,\n",
       " -1.09e-06,\n",
       " -5.37e-06,\n",
       " -1.7e-06,\n",
       " 3.214846197105425e-06,\n",
       " 3.4792709477754668e-06,\n",
       " -4.21e-06,\n",
       " 1.0485738949577331e-06,\n",
       " 0.00270636,\n",
       " -8.96e-08,\n",
       " 1.3928578317829376e-06,\n",
       " -3.98e-07,\n",
       " -4.76e-07,\n",
       " 2.5089835057102827e-06,\n",
       " 2.5089835057102827e-06,\n",
       " 3.556353465613967e-06,\n",
       " 4.077295712336331e-06,\n",
       " 2.5089835057102827e-06,\n",
       " 3.729134030180274e-06,\n",
       " -2.61e-07,\n",
       " 6.185218471220037e-08,\n",
       " -2.51e-06,\n",
       " 1.354294126865902e-08,\n",
       " 4.565852276988779e-06,\n",
       " -2.9e-06,\n",
       " -2.5e-06,\n",
       " -2.05e-06,\n",
       " -0.00135318,\n",
       " 4.224108923425102e-07,\n",
       " 3.263100115757065e-06,\n",
       " 1.9496291617907063e-06,\n",
       " -5.05e-06,\n",
       " 3.006120273485292e-06,\n",
       " -1.22e-07,\n",
       " 3.952400562462469e-07,\n",
       " -3.45e-07,\n",
       " 2.259572993549983e-06,\n",
       " -7.38e-07,\n",
       " -8.13e-07,\n",
       " -6.65e-06,\n",
       " 2.5089835057102827e-06,\n",
       " 2.5089835057102827e-06,\n",
       " -8.23e-07,\n",
       " 1.258629711767142e-06,\n",
       " 2.827870671306008e-06,\n",
       " 3.7912019337145353e-06,\n",
       " 2.5089835057102827e-06,\n",
       " 6.279025432646933e-07,\n",
       " 4.557557528276039e-06,\n",
       " -8.07e-07,\n",
       " 6.225516524475538e-07,\n",
       " -1.23e-06,\n",
       " 2.4348960127544964e-06,\n",
       " -0.00135318,\n",
       " -0.00135318,\n",
       " 2.647329638551244e-07,\n",
       " 2.5089835057102827e-06,\n",
       " 1.542479589423462e-06,\n",
       " 3.949382944919503e-06,\n",
       " -4.01e-06,\n",
       " 4.373222807385758e-06,\n",
       " -2.59e-06,\n",
       " -6.52e-06,\n",
       " 2.5089835057102827e-06,\n",
       " 2.5089835057102827e-06,\n",
       " 3.6243448364524856e-06,\n",
       " -2.47e-06,\n",
       " 4.876181489962862e-06,\n",
       " 5.9858534059204775e-06,\n",
       " 2.5089835057102827e-06,\n",
       " 0.00270636,\n",
       " -0.00135318,\n",
       " 2.1363684048793622e-06,\n",
       " 0.000890472,\n",
       " 0.001078749,\n",
       " -1.47e-06,\n",
       " 1.4929485922231652e-06,\n",
       " -4.74e-07,\n",
       " -2.01e-06,\n",
       " 9.187369685858525e-08,\n",
       " 2.514356834167746e-06,\n",
       " 2.397299121323118e-06,\n",
       " 2.5089835057102827e-06,\n",
       " 2.5089835057102827e-06,\n",
       " 1.2435350744303849e-06,\n",
       " 4.665624583420148e-06,\n",
       " 1.428323736797071e-06,\n",
       " 2.905031577069141e-06,\n",
       " 1.5588389602529042e-06,\n",
       " -3.74e-07,\n",
       " -0.00135318,\n",
       " 2.2922803895253954e-06,\n",
       " 1.4310151486249829e-06,\n",
       " -1.55e-06,\n",
       " 0.002703945,\n",
       " 0.000947867,\n",
       " 2.5089835057102827e-06,\n",
       " 0.001177856,\n",
       " 0.001144165,\n",
       " 0.00135318,\n",
       " -3.84e-06,\n",
       " 2.875746633283905e-06,\n",
       " -0.00135318,\n",
       " -8.51e-10,\n",
       " 2.5089835057102827e-06,\n",
       " 2.5089835057102827e-06,\n",
       " -1.55e-09,\n",
       " 3.2026136396750493e-06,\n",
       " -6.05e-08,\n",
       " -3.62e-07,\n",
       " 3.3572351393358192e-06,\n",
       " 1.0507927515451964e-06,\n",
       " 2.5089835057102827e-06,\n",
       " 2.5089835057102827e-06,\n",
       " -1.07e-06,\n",
       " 2.408164199231123e-06,\n",
       " 7.538983436473231e-07,\n",
       " 1.6048549496329496e-06,\n",
       " 4.249674524652774e-06,\n",
       " -4.11e-06,\n",
       " 2.390162025752267e-07,\n",
       " -0.00135318,\n",
       " -2.12e-06,\n",
       " -8.72e-07,\n",
       " 9.488397885813904e-07]"
      ]
     },
     "execution_count": 68,
     "metadata": {},
     "output_type": "execute_result"
    }
   ],
   "source": [
    "finding_outlier(df['DS'])"
   ]
  },
  {
   "cell_type": "code",
   "execution_count": 69,
   "id": "50e26427",
   "metadata": {},
   "outputs": [
    {
     "data": {
      "text/plain": [
       "<Axes: >"
      ]
     },
     "execution_count": 69,
     "metadata": {},
     "output_type": "execute_result"
    },
    {
     "data": {
      "image/png": "[encoded data removed]",
      "text/plain": [
       "<Figure size 640x480 with 1 Axes>"
      ]
     },
     "metadata": {},
     "output_type": "display_data"
    }
   ],
   "source": [
    "sns.boxplot(df['DS'])"
   ]
  },
  {
   "cell_type": "code",
   "execution_count": 70,
   "id": "44d4a9d7",
   "metadata": {},
   "outputs": [
    {
     "data": {
      "text/plain": [
       "[0.002098636,\n",
       " 0.002805049,\n",
       " 0.00082554,\n",
       " 0.001392758,\n",
       " 0.00152439,\n",
       " 0.001422475,\n",
       " 0.00084246,\n",
       " 0.003355705,\n",
       " 0.0015625,\n",
       " 0.00304878,\n",
       " 0.000834028,\n",
       " -1.35e-05,\n",
       " 0.00017515121174634704,\n",
       " 0.001416431,\n",
       " 4.425715016673059e-06,\n",
       " 0.00017515121174634704,\n",
       " -0.005347594,\n",
       " 0.001633987,\n",
       " 0.00017515121174634704,\n",
       " 2.6247007542426856e-06,\n",
       " 3.0031285484313836e-05,\n",
       " 2.291124542768206e-07,\n",
       " 0.00017515121174634704,\n",
       " 2.4488322036811816e-06,\n",
       " -5.69e-06,\n",
       " -6.21e-06,\n",
       " 3.295894509733301e-05,\n",
       " -0.005347594,\n",
       " -2.97e-05,\n",
       " 1.3454187761240107e-05,\n",
       " -2.74e-06,\n",
       " -2.19e-05,\n",
       " -2.56e-06,\n",
       " 1.2465036967645542e-05,\n",
       " 0.010695188,\n",
       " -1.03e-05,\n",
       " -1.63e-05,\n",
       " 2.264586338474496e-06,\n",
       " -1.57e-05,\n",
       " -2.25e-05,\n",
       " 2.9551420787520397e-06,\n",
       " 8.065134379549092e-06,\n",
       " -3.43e-05,\n",
       " -1.02e-06,\n",
       " -9.36e-06,\n",
       " 0.00017515121174634704,\n",
       " 1.2517713540297791e-05,\n",
       " 0.00017515121174634704,\n",
       " 3.068105544823408e-06,\n",
       " 0.010695188,\n",
       " 0.00017515121174634704,\n",
       " -2.04e-05,\n",
       " -1.88e-05,\n",
       " 0.002770083,\n",
       " 0.002320186,\n",
       " 0.002512563,\n",
       " 0.001647446,\n",
       " 0.0016,\n",
       " -4.38e-05,\n",
       " 0.001964637,\n",
       " 0.003597122,\n",
       " 0.004081633,\n",
       " 0.000834028,\n",
       " 0.002083333,\n",
       " 0.000834028,\n",
       " 0.001375516,\n",
       " 0.001668057,\n",
       " 0.001564945,\n",
       " 0.001328459,\n",
       " 0.003194888,\n",
       " 0.001672241,\n",
       " 0.003508772,\n",
       " 0.003144654,\n",
       " 0.005347594,\n",
       " 8.90750201423456e-07,\n",
       " 8.603223709012207e-06,\n",
       " -5.17e-06,\n",
       " 1.4860033623232442e-05,\n",
       " 7.775850633283119e-06,\n",
       " -4.48e-05,\n",
       " -1.36e-05,\n",
       " -1.87e-05,\n",
       " -1.83e-05,\n",
       " 3.925648607544461e-06,\n",
       " 1.7826219221617037e-05,\n",
       " 8.509517680738792e-06,\n",
       " 8.659215437308378e-06,\n",
       " 1.5125431750959505e-05,\n",
       " -2.81e-05,\n",
       " 3.732721194867656e-05,\n",
       " 1.2059092074231764e-05,\n",
       " -2.75e-06,\n",
       " -4.03e-06,\n",
       " 1.9962372527862643e-05,\n",
       " 0.00204499,\n",
       " 0.001706485,\n",
       " 0.001036269,\n",
       " 0.00017515121174634704,\n",
       " 0.00017515121174634704,\n",
       " 5.584028530027922e-06,\n",
       " 0.002380952,\n",
       " -2.08e-05,\n",
       " 0.010695188,\n",
       " 0.001054852,\n",
       " 0.00154321,\n",
       " 0.00017515121174634704,\n",
       " -1.77e-05,\n",
       " 1.7562640747569974e-05,\n",
       " 8.41607367746431e-06,\n",
       " -3.52e-06,\n",
       " 0.001221001,\n",
       " -1.53e-06,\n",
       " -3.37e-05,\n",
       " 1.2722033301252514e-05,\n",
       " 2.464392902754092e-05,\n",
       " 0.00017515121174634704,\n",
       " 1.1409170055163506e-05,\n",
       " -6.99e-06,\n",
       " -0.005347594,\n",
       " -1.5e-05,\n",
       " 1.036956523784359e-05,\n",
       " -2.02e-05,\n",
       " -1.49e-05,\n",
       " 0.000868056,\n",
       " 0.000932836,\n",
       " 0.001851852,\n",
       " 1.4349446121646965e-05,\n",
       " 7.383399689440459e-06,\n",
       " 0.001008065,\n",
       " 0.001455604,\n",
       " 0.000839631,\n",
       " 0.001408451,\n",
       " 0.001114827,\n",
       " 0.000866551,\n",
       " 0.000934579,\n",
       " 9.723461980309617e-06,\n",
       " 0.000848896,\n",
       " 0.000881057,\n",
       " 0.001052632,\n",
       " 0.001303781,\n",
       " 0.000865801,\n",
       " 0.001724138,\n",
       " 0.000933707,\n",
       " 0.001355014,\n",
       " 0.000876424,\n",
       " 0.001945525,\n",
       " 4.945286327131548e-06,\n",
       " 0.00017515121174634704,\n",
       " 0.000843882,\n",
       " 0.00280112,\n",
       " 0.000912409,\n",
       " 0.001908397,\n",
       " 0.000900901,\n",
       " 0.001941748,\n",
       " 0.000881834,\n",
       " 0.000880282,\n",
       " 0.002529511,\n",
       " 0.003045685,\n",
       " 0.00017515121174634704,\n",
       " 0.00310559,\n",
       " 0.003724395,\n",
       " 0.010695188,\n",
       " -1.7e-05,\n",
       " 0.000977517,\n",
       " 0.00173913,\n",
       " 0.00173913,\n",
       " 0.000904977,\n",
       " -2.44e-05,\n",
       " 0.00017515121174634704,\n",
       " -8.84e-06,\n",
       " 0.010695188,\n",
       " 0.00088968,\n",
       " 0.001912046,\n",
       " 0.000890472,\n",
       " 0.001078749,\n",
       " 0.000866551,\n",
       " 0.001655629,\n",
       " 2.162258703402332e-05,\n",
       " 0.001814882,\n",
       " -1.5e-05,\n",
       " -1.26e-05,\n",
       " -3.03e-06,\n",
       " -7.03e-06,\n",
       " -0.005347594,\n",
       " 0.000795247,\n",
       " 0.001272265,\n",
       " 0.000793651,\n",
       " 0.000696864,\n",
       " -1.79e-07,\n",
       " -2.35e-05,\n",
       " 0.00017515121174634704,\n",
       " 0.00017515121174634704,\n",
       " -2.59e-05,\n",
       " -1.73e-05,\n",
       " 1.3614569500707432e-05,\n",
       " 0.001607717,\n",
       " 0.002222222,\n",
       " 0.001733102,\n",
       " 0.001706485,\n",
       " 0.001036269,\n",
       " 0.001574663,\n",
       " 0.002702703,\n",
       " 0.00084674,\n",
       " -1.82e-05,\n",
       " 0.000876424,\n",
       " 0.001550388,\n",
       " 0.00390625,\n",
       " 0.0032,\n",
       " 0.002808989,\n",
       " 0.003289474,\n",
       " 0.003773585,\n",
       " 0.004524887,\n",
       " 0.004559271,\n",
       " 0.003870968,\n",
       " 0.000961538,\n",
       " 0.001079914,\n",
       " 0.00148368,\n",
       " 0.002277904,\n",
       " 0.001648805,\n",
       " 0.002296211,\n",
       " 0.001749781,\n",
       " 0.002085506,\n",
       " 0.001848429,\n",
       " 0.001484781,\n",
       " 0.001170275,\n",
       " 0.001893939,\n",
       " 1.0846327659886972e-06,\n",
       " 0.00017515121174634704,\n",
       " 1.506806668175229e-05,\n",
       " 6.95146690904707e-06,\n",
       " 2.1182083768260095e-05,\n",
       " 7.300203428714011e-06,\n",
       " -3.45e-06,\n",
       " 0.00017515121174634704,\n",
       " 0.00017515121174634704,\n",
       " 0.002267574,\n",
       " 0.00177305,\n",
       " 0.001968504,\n",
       " 0.00130719,\n",
       " 0.001547988,\n",
       " 0.001694915,\n",
       " 0.001930502,\n",
       " 0.002369668,\n",
       " 1.0417868478537984e-05,\n",
       " 0.003067485,\n",
       " 0.00017515121174634704,\n",
       " 0.001386963,\n",
       " 0.00017515121174634704,\n",
       " 0.00297619,\n",
       " 0.002317497,\n",
       " 0.002020768,\n",
       " 0.002574003,\n",
       " 0.002296211,\n",
       " 0.002053388,\n",
       " 0.002375297,\n",
       " 0.002673797,\n",
       " 0.002242152,\n",
       " 0.002176279,\n",
       " 0.001116071,\n",
       " 0.001709402,\n",
       " 0.002276176,\n",
       " 0.002153625,\n",
       " 0.00260078,\n",
       " 0.003703704,\n",
       " 0.004322767,\n",
       " 0.003115265,\n",
       " 0.001736111,\n",
       " 0.002280985,\n",
       " 1.3220923832253747e-05,\n",
       " 2.3257159463590438e-06,\n",
       " 2.190741156192565e-05,\n",
       " 0.010695188,\n",
       " 0.001116071,\n",
       " 0.001127396,\n",
       " 0.001226994,\n",
       " 0.001333333,\n",
       " 0.001261034,\n",
       " 0.001141553,\n",
       " 0.001083424,\n",
       " 0.001237624,\n",
       " 0.001054852,\n",
       " 0.001165501,\n",
       " 2.4235454624404675e-05,\n",
       " 5.471253664686385e-07,\n",
       " 0.001261034,\n",
       " 0.001010101,\n",
       " 0.001843318,\n",
       " 0.00169348,\n",
       " 0.002248876,\n",
       " 0.00265252,\n",
       " 0.002749771,\n",
       " 0.002076843,\n",
       " 0.002244669,\n",
       " 0.002145923,\n",
       " 0.002188184,\n",
       " 0.002014099,\n",
       " 0.002318393,\n",
       " 0.001850139,\n",
       " 0.001666667,\n",
       " 1.906547285608765e-05,\n",
       " 3.150904357336698e-05,\n",
       " -2.58e-05,\n",
       " 0.001369863,\n",
       " 0.002173913,\n",
       " 0.001607717]"
      ]
     },
     "execution_count": 70,
     "metadata": {},
     "output_type": "execute_result"
    }
   ],
   "source": [
    "finding_outlier(df['DP'])"
   ]
  },
  {
   "cell_type": "code",
   "execution_count": 71,
   "id": "d5b6874f",
   "metadata": {},
   "outputs": [
    {
     "data": {
      "text/plain": [
       "<Axes: >"
      ]
     },
     "execution_count": 71,
     "metadata": {},
     "output_type": "execute_result"
    },
    {
     "data": {
      "image/png": "[encoded data removed]",
      "text/plain": [
       "<Figure size 640x480 with 1 Axes>"
      ]
     },
     "metadata": {},
     "output_type": "display_data"
    }
   ],
   "source": [
    "sns.boxplot(df['DP'])"
   ]
  },
  {
   "cell_type": "code",
   "execution_count": 72,
   "id": "c53342e1",
   "metadata": {},
   "outputs": [
    {
     "data": {
      "text/plain": [
       "[-63.0, 162.0, 162.0, -63.0, 162.0, -63.0, -63.0, -63.0, 162.0, 162.0]"
      ]
     },
     "execution_count": 72,
     "metadata": {},
     "output_type": "execute_result"
    }
   ],
   "source": [
    "finding_outlier(df['ASTV'])"
   ]
  },
  {
   "cell_type": "code",
   "execution_count": 73,
   "id": "3848eaa0",
   "metadata": {},
   "outputs": [
    {
     "data": {
      "text/plain": [
       "<Axes: >"
      ]
     },
     "execution_count": 73,
     "metadata": {},
     "output_type": "execute_result"
    },
    {
     "data": {
      "image/png": "[encoded data removed]",
      "text/plain": [
       "<Figure size 640x480 with 1 Axes>"
      ]
     },
     "metadata": {},
     "output_type": "display_data"
    }
   ],
   "source": [
    "sns.boxplot(df['ASTV'])"
   ]
  },
  {
   "cell_type": "code",
   "execution_count": 74,
   "id": "1820e5f9",
   "metadata": {},
   "outputs": [
    {
     "data": {
      "text/plain": [
       "Index(['LB', 'AC', 'FM', 'UC', 'DL', 'DS', 'DP', 'ASTV', 'MSTV', 'ALTV',\n",
       "       'MLTV', 'Width', 'Tendency', 'NSP'],\n",
       "      dtype='object')"
      ]
     },
     "execution_count": 74,
     "metadata": {},
     "output_type": "execute_result"
    }
   ],
   "source": [
    "df.columns"
   ]
  },
  {
   "cell_type": "code",
   "execution_count": 75,
   "id": "39eec2c6",
   "metadata": {},
   "outputs": [
    {
     "data": {
      "text/plain": [
       "[5.9,\n",
       " 6.3,\n",
       " 4.4,\n",
       " 6.0,\n",
       " 4.5,\n",
       " 6.9,\n",
       " 3.4,\n",
       " 3.7,\n",
       " 3.4,\n",
       " 3.6,\n",
       " 4.4,\n",
       " 4.7,\n",
       " 4.9,\n",
       " 5.0,\n",
       " 7.0,\n",
       " 4.1,\n",
       " 5.4,\n",
       " 3.9,\n",
       " 5.2,\n",
       " 4.8,\n",
       " 4.3,\n",
       " 3.7,\n",
       " 5.3,\n",
       " 4.8,\n",
       " 3.4,\n",
       " 3.3,\n",
       " 3.4,\n",
       " 3.4,\n",
       " 3.8,\n",
       " 13.8,\n",
       " 3.7,\n",
       " 13.8,\n",
       " 5.7,\n",
       " 4.9,\n",
       " 5.0,\n",
       " 4.0,\n",
       " 5.4,\n",
       " 3.5,\n",
       " 3.4,\n",
       " 3.4,\n",
       " 3.8,\n",
       " 3.7842634201519054,\n",
       " 4.1,\n",
       " 4.9,\n",
       " 6.3,\n",
       " -6.6,\n",
       " 4.5,\n",
       " 3.6,\n",
       " -6.6,\n",
       " -6.6,\n",
       " 3.3,\n",
       " 3.4,\n",
       " 13.8,\n",
       " 3.6,\n",
       " 13.8,\n",
       " 3.5,\n",
       " 3.8,\n",
       " 3.4,\n",
       " 3.4,\n",
       " 13.8,\n",
       " 3.8,\n",
       " 4.2,\n",
       " 3.3,\n",
       " 3.6,\n",
       " 3.401631253474676,\n",
       " 3.3,\n",
       " 3.5,\n",
       " 4.008749059383254,\n",
       " 3.8,\n",
       " 3.4,\n",
       " 3.3001458955594085,\n",
       " 13.8,\n",
       " 13.8,\n",
       " 3.3,\n",
       " 4.3,\n",
       " 3.9,\n",
       " 3.3,\n",
       " 4.2,\n",
       " 4.1,\n",
       " 4.2]"
      ]
     },
     "execution_count": 75,
     "metadata": {},
     "output_type": "execute_result"
    }
   ],
   "source": [
    "finding_outlier(df['MSTV'])"
   ]
  },
  {
   "cell_type": "code",
   "execution_count": 76,
   "id": "ead42318",
   "metadata": {},
   "outputs": [
    {
     "data": {
      "text/plain": [
       "<Axes: >"
      ]
     },
     "execution_count": 76,
     "metadata": {},
     "output_type": "execute_result"
    },
    {
     "data": {
      "image/png": "[encoded data removed]",
      "text/plain": [
       "<Figure size 640x480 with 1 Axes>"
      ]
     },
     "metadata": {},
     "output_type": "display_data"
    }
   ],
   "source": [
    "sns.boxplot(df['MSTV'])"
   ]
  },
  {
   "cell_type": "code",
   "execution_count": 77,
   "id": "00a4286b",
   "metadata": {},
   "outputs": [
    {
     "data": {
      "text/plain": [
       "[43.0,\n",
       " 79.0,\n",
       " 72.0,\n",
       " 71.0,\n",
       " 40.0,\n",
       " 69.0,\n",
       " 54.0,\n",
       " 53.0,\n",
       " 38.0,\n",
       " 29.0,\n",
       " 36.64007017194064,\n",
       " 29.0,\n",
       " 67.0,\n",
       " 68.0,\n",
       " 75.0,\n",
       " 74.0,\n",
       " 30.0,\n",
       " 49.0,\n",
       " 39.0,\n",
       " 30.198938532441147,\n",
       " 32.0,\n",
       " 182.0,\n",
       " 34.0,\n",
       " 38.0,\n",
       " 31.0,\n",
       " 58.0,\n",
       " 39.0,\n",
       " 46.0,\n",
       " 57.0,\n",
       " 75.0,\n",
       " 28.85072020667452,\n",
       " 33.0,\n",
       " 40.0,\n",
       " 51.0,\n",
       " 37.0,\n",
       " 182.0,\n",
       " 34.40761222060033,\n",
       " 34.0,\n",
       " 54.0,\n",
       " 58.0,\n",
       " 52.0,\n",
       " 32.0,\n",
       " 38.0,\n",
       " 59.0,\n",
       " 78.0,\n",
       " 84.0,\n",
       " 71.0,\n",
       " 59.0,\n",
       " 52.0,\n",
       " 62.0,\n",
       " 39.0,\n",
       " 45.0,\n",
       " 30.0,\n",
       " 45.0,\n",
       " 35.0,\n",
       " 67.0,\n",
       " 71.54948564079086,\n",
       " 45.0,\n",
       " 58.0,\n",
       " 32.0,\n",
       " 41.0,\n",
       " 61.0,\n",
       " 56.0,\n",
       " 84.0,\n",
       " 56.0,\n",
       " 84.0,\n",
       " 44.0,\n",
       " 39.0,\n",
       " 71.0,\n",
       " 71.0,\n",
       " 61.0,\n",
       " 67.0,\n",
       " 81.0,\n",
       " 42.0,\n",
       " 57.0,\n",
       " 56.0,\n",
       " 61.0,\n",
       " 77.0,\n",
       " 67.0,\n",
       " 88.0,\n",
       " 91.0,\n",
       " 78.0,\n",
       " 84.0,\n",
       " 47.32227685315191,\n",
       " 41.0,\n",
       " 59.0,\n",
       " 55.0,\n",
       " 61.0,\n",
       " 49.0,\n",
       " 49.11053428501242,\n",
       " 82.0,\n",
       " 86.0,\n",
       " 29.0,\n",
       " 67.0,\n",
       " 78.0,\n",
       " 84.0,\n",
       " 60.0,\n",
       " 68.0,\n",
       " 30.0,\n",
       " 32.0,\n",
       " 41.0,\n",
       " 28.0,\n",
       " 38.0,\n",
       " 29.0,\n",
       " 49.0,\n",
       " 35.0,\n",
       " 62.0,\n",
       " 68.0,\n",
       " 70.0,\n",
       " 47.0,\n",
       " 48.0,\n",
       " 51.0,\n",
       " 31.0,\n",
       " 43.0,\n",
       " 50.0,\n",
       " 47.0,\n",
       " 71.0,\n",
       " 48.0,\n",
       " 39.0,\n",
       " 39.0,\n",
       " 37.34126460491434,\n",
       " 31.0,\n",
       " 31.0,\n",
       " 34.0,\n",
       " 28.0,\n",
       " 29.0,\n",
       " 38.0,\n",
       " 32.0,\n",
       " 37.0,\n",
       " 32.0,\n",
       " 37.0,\n",
       " 36.0,\n",
       " 28.0,\n",
       " 28.0,\n",
       " 31.0,\n",
       " 40.0,\n",
       " 72.0,\n",
       " 85.0,\n",
       " 64.0,\n",
       " 58.0,\n",
       " 66.0,\n",
       " 91.0,\n",
       " 90.0,\n",
       " 54.0,\n",
       " 70.0,\n",
       " 77.0,\n",
       " 58.0,\n",
       " 81.0,\n",
       " 29.0,\n",
       " 40.0,\n",
       " 38.0,\n",
       " 54.0,\n",
       " 73.0,\n",
       " 43.0,\n",
       " 50.0,\n",
       " 42.0,\n",
       " 53.0,\n",
       " 64.0,\n",
       " 41.0,\n",
       " 34.0,\n",
       " 33.0,\n",
       " 34.0,\n",
       " 37.0,\n",
       " 44.0,\n",
       " 62.0,\n",
       " 29.0,\n",
       " 69.0,\n",
       " 72.0,\n",
       " 91.0,\n",
       " 90.0,\n",
       " 84.0,\n",
       " 42.0,\n",
       " 91.0,\n",
       " 66.0,\n",
       " 40.0,\n",
       " 34.0,\n",
       " 32.0,\n",
       " 30.0,\n",
       " 32.0,\n",
       " 38.0,\n",
       " 32.0,\n",
       " 45.0,\n",
       " 32.0,\n",
       " 32.0,\n",
       " 32.0,\n",
       " 31.0,\n",
       " 33.0,\n",
       " 39.0,\n",
       " 39.0,\n",
       " 44.0,\n",
       " 55.0,\n",
       " 41.0,\n",
       " -91.0,\n",
       " 31.0,\n",
       " 32.0,\n",
       " 32.0,\n",
       " 35.0,\n",
       " 53.50225910008408,\n",
       " 44.0,\n",
       " 31.0,\n",
       " 33.0,\n",
       " 57.0,\n",
       " 50.0,\n",
       " 64.0,\n",
       " 59.0,\n",
       " 67.0,\n",
       " 62.0,\n",
       " 71.0,\n",
       " 74.0,\n",
       " 59.0,\n",
       " 48.0,\n",
       " 45.0,\n",
       " 62.0,\n",
       " 59.0,\n",
       " 50.0,\n",
       " 61.0,\n",
       " 39.0,\n",
       " 43.38982541458636,\n",
       " 56.0,\n",
       " 62.0,\n",
       " 53.0,\n",
       " 44.0,\n",
       " 48.0,\n",
       " 61.0,\n",
       " 54.0,\n",
       " 37.0,\n",
       " 58.0,\n",
       " 40.0,\n",
       " 30.0,\n",
       " 37.0,\n",
       " 42.0,\n",
       " 28.0,\n",
       " 47.0,\n",
       " 48.0,\n",
       " 28.0,\n",
       " 43.26308263763347,\n",
       " 38.0,\n",
       " 28.0,\n",
       " 39.0,\n",
       " 182.0,\n",
       " 32.512685351354385,\n",
       " 61.0,\n",
       " 48.0,\n",
       " -91.0,\n",
       " -91.0,\n",
       " 35.0,\n",
       " 33.529381802896985,\n",
       " 45.0,\n",
       " 49.0,\n",
       " 42.0,\n",
       " 33.0,\n",
       " 32.0,\n",
       " 30.37093000572564,\n",
       " 31.0,\n",
       " 33.0,\n",
       " 35.0,\n",
       " 182.0,\n",
       " 32.0,\n",
       " 31.0,\n",
       " 28.0,\n",
       " 33.0,\n",
       " 36.0,\n",
       " 49.0,\n",
       " 52.0,\n",
       " 46.0,\n",
       " 41.0,\n",
       " 37.0,\n",
       " 54.0,\n",
       " 60.0,\n",
       " 62.0,\n",
       " 59.0,\n",
       " 62.0,\n",
       " 56.0,\n",
       " 49.0,\n",
       " 181.6050321613888,\n",
       " 38.0,\n",
       " 32.0,\n",
       " 45.0,\n",
       " 30.0,\n",
       " 44.0,\n",
       " 30.0,\n",
       " 46.0,\n",
       " 37.0,\n",
       " 40.0,\n",
       " 54.0,\n",
       " 65.0,\n",
       " 46.0,\n",
       " 34.0,\n",
       " 182.0,\n",
       " 182.0,\n",
       " 44.0,\n",
       " 46.0,\n",
       " 55.0,\n",
       " 58.0,\n",
       " 59.0,\n",
       " 64.0,\n",
       " 60.0,\n",
       " 61.0,\n",
       " 73.0,\n",
       " 71.0,\n",
       " 67.0,\n",
       " 63.0,\n",
       " 52.0,\n",
       " 58.0,\n",
       " 35.0,\n",
       " 28.0,\n",
       " 73.0,\n",
       " 70.0,\n",
       " 59.0,\n",
       " 44.0,\n",
       " 34.0,\n",
       " 29.0,\n",
       " 40.0,\n",
       " 36.0,\n",
       " 33.0,\n",
       " 48.0,\n",
       " 36.0,\n",
       " 35.85718328133609]"
      ]
     },
     "execution_count": 77,
     "metadata": {},
     "output_type": "execute_result"
    }
   ],
   "source": [
    "finding_outlier(df['ALTV'])"
   ]
  },
  {
   "cell_type": "code",
   "execution_count": 78,
   "id": "47667ca2",
   "metadata": {},
   "outputs": [
    {
     "data": {
      "text/plain": [
       "<Axes: >"
      ]
     },
     "execution_count": 78,
     "metadata": {},
     "output_type": "execute_result"
    },
    {
     "data": {
      "image/png": "[encoded data removed]",
      "text/plain": [
       "<Figure size 640x480 with 1 Axes>"
      ]
     },
     "metadata": {},
     "output_type": "display_data"
    }
   ],
   "source": [
    "sns.boxplot(df['ALTV'])"
   ]
  },
  {
   "cell_type": "code",
   "execution_count": 79,
   "id": "72ca365c",
   "metadata": {},
   "outputs": [
    {
     "data": {
      "text/plain": [
       "[23.0,\n",
       " 27.6,\n",
       " 29.5,\n",
       " 21.7,\n",
       " 24.2,\n",
       " 22.1,\n",
       " 21.1,\n",
       " 22.2,\n",
       " 22.3,\n",
       " 21.3,\n",
       " 25.9,\n",
       " 23.4,\n",
       " 26.3,\n",
       " 35.7,\n",
       " 41.8,\n",
       " 50.7,\n",
       " 25.8,\n",
       " 23.3,\n",
       " -50.7,\n",
       " 28.4,\n",
       " 21.4,\n",
       " 20.5,\n",
       " 29.6,\n",
       " 29.3,\n",
       " 22.98483551,\n",
       " 34.7,\n",
       " 21.7,\n",
       " 27.3,\n",
       " 20.5,\n",
       " 26.3,\n",
       " 24.7,\n",
       " 21.5,\n",
       " 27.3,\n",
       " 25.6,\n",
       " 26.1,\n",
       " 36.9,\n",
       " 27.6,\n",
       " 29.0,\n",
       " 28.0,\n",
       " 21.7,\n",
       " 23.767366447642104,\n",
       " 40.8,\n",
       " 21.551623781146397,\n",
       " 25.8,\n",
       " 21.4,\n",
       " 21.3,\n",
       " 25.2,\n",
       " 21.9,\n",
       " 20.8,\n",
       " 21.3,\n",
       " 22.3,\n",
       " 24.1,\n",
       " 22.5,\n",
       " 27.0,\n",
       " 23.4,\n",
       " 20.4,\n",
       " 29.1,\n",
       " 28.9,\n",
       " 21.1,\n",
       " 20.8,\n",
       " 25.3,\n",
       " 22.7,\n",
       " 24.9,\n",
       " 25.1,\n",
       " 25.4,\n",
       " 101.4,\n",
       " 23.1,\n",
       " 23.6,\n",
       " -50.7,\n",
       " 101.4,\n",
       " 21.3,\n",
       " 101.4,\n",
       " 33.5,\n",
       " 27.4,\n",
       " 26.1,\n",
       " -50.7,\n",
       " 101.4,\n",
       " -50.7,\n",
       " 21.0,\n",
       " 101.4,\n",
       " -50.7]"
      ]
     },
     "execution_count": 79,
     "metadata": {},
     "output_type": "execute_result"
    }
   ],
   "source": [
    "finding_outlier(df['MLTV'])"
   ]
  },
  {
   "cell_type": "code",
   "execution_count": 80,
   "id": "2dc9b8c9",
   "metadata": {},
   "outputs": [
    {
     "data": {
      "text/plain": [
       "<Axes: >"
      ]
     },
     "execution_count": 80,
     "metadata": {},
     "output_type": "execute_result"
    },
    {
     "data": {
      "image/png": "[encoded data removed]",
      "text/plain": [
       "<Figure size 640x480 with 1 Axes>"
      ]
     },
     "metadata": {},
     "output_type": "display_data"
    }
   ],
   "source": [
    "sns.boxplot(df['MLTV'])"
   ]
  },
  {
   "cell_type": "code",
   "execution_count": 81,
   "id": "c11a5ef9",
   "metadata": {},
   "outputs": [
    {
     "data": {
      "text/plain": [
       "[-174.0, -174.0, 357.0, 357.0, 357.0, 357.0, -174.0, 357.0, -174.0, -174.0]"
      ]
     },
     "execution_count": 81,
     "metadata": {},
     "output_type": "execute_result"
    }
   ],
   "source": [
    "finding_outlier(df['Width'])"
   ]
  },
  {
   "cell_type": "code",
   "execution_count": 82,
   "id": "ceb270d7",
   "metadata": {},
   "outputs": [
    {
     "data": {
      "text/plain": [
       "<Axes: >"
      ]
     },
     "execution_count": 82,
     "metadata": {},
     "output_type": "execute_result"
    },
    {
     "data": {
      "image/png": "[encoded data removed]",
      "text/plain": [
       "<Figure size 640x480 with 1 Axes>"
      ]
     },
     "metadata": {},
     "output_type": "display_data"
    }
   ],
   "source": [
    "sns.boxplot(df['Width'])"
   ]
  },
  {
   "cell_type": "code",
   "execution_count": 83,
   "id": "2ff9b1f1",
   "metadata": {},
   "outputs": [
    {
     "data": {
      "text/plain": [
       "[-3.0, -3.0, -2.996313744, 3.0, -3.0, -3.0, 3.0, 3.0, 3.0, -3.0]"
      ]
     },
     "execution_count": 83,
     "metadata": {},
     "output_type": "execute_result"
    }
   ],
   "source": [
    "finding_outlier(df['Tendency'])"
   ]
  },
  {
   "cell_type": "code",
   "execution_count": 84,
   "id": "00362031",
   "metadata": {},
   "outputs": [
    {
     "data": {
      "text/plain": [
       "<Axes: >"
      ]
     },
     "execution_count": 84,
     "metadata": {},
     "output_type": "execute_result"
    },
    {
     "data": {
      "image/png": "[encoded data removed]",
      "text/plain": [
       "<Figure size 640x480 with 1 Axes>"
      ]
     },
     "metadata": {},
     "output_type": "display_data"
    }
   ],
   "source": [
    "sns.boxplot(df['Tendency'])"
   ]
  },
  {
   "cell_type": "code",
   "execution_count": 85,
   "id": "7f6cb26b",
   "metadata": {},
   "outputs": [
    {
     "data": {
      "text/plain": [
       "[2.0,\n",
       " 3.0,\n",
       " -1.025988003,\n",
       " 3.0,\n",
       " 3.0,\n",
       " 3.0,\n",
       " 2.0,\n",
       " 2.0,\n",
       " 2.0,\n",
       " 3.0,\n",
       " 3.0,\n",
       " 3.0,\n",
       " 3.0,\n",
       " 3.0,\n",
       " 3.0,\n",
       " 3.0,\n",
       " 2.0,\n",
       " 1.0108488214986289,\n",
       " 0.9967141582156605,\n",
       " 1.304507175110962,\n",
       " 2.0,\n",
       " 2.0,\n",
       " 3.0045350654581795,\n",
       " 2.0,\n",
       " 2.0,\n",
       " 0.9977565307084564,\n",
       " 5.0,\n",
       " 1.0133491659185274,\n",
       " 2.0,\n",
       " 2.0,\n",
       " 2.0,\n",
       " 2.0,\n",
       " 2.0,\n",
       " 2.0,\n",
       " 3.0,\n",
       " 3.0,\n",
       " 2.0,\n",
       " 2.0,\n",
       " 2.0,\n",
       " 1.304507175110962,\n",
       " 0.9979205771192056,\n",
       " 2.0,\n",
       " 2.0,\n",
       " 1.304507175110962,\n",
       " 2.0,\n",
       " 2.0,\n",
       " 2.0,\n",
       " 2.0,\n",
       " 2.0,\n",
       " 2.0,\n",
       " 2.0,\n",
       " 1.0033666531758088,\n",
       " 2.0,\n",
       " 2.0,\n",
       " 2.0,\n",
       " 2.0,\n",
       " 2.0,\n",
       " 2.0,\n",
       " 2.0,\n",
       " 1.0174970333140587,\n",
       " 2.0,\n",
       " 2.0,\n",
       " 1.0150349516881545,\n",
       " 1.304507175110962,\n",
       " 0.9979658172304592,\n",
       " 2.0,\n",
       " 2.0,\n",
       " 1.0073354304903006,\n",
       " 0.9834202772977528,\n",
       " 2.0,\n",
       " 2.0,\n",
       " 3.0,\n",
       " 2.0,\n",
       " 2.0,\n",
       " 2.0,\n",
       " 2.0,\n",
       " 2.0,\n",
       " 2.0,\n",
       " 2.006605011549828,\n",
       " 5.0,\n",
       " 2.0,\n",
       " 2.0,\n",
       " 2.0,\n",
       " 2.018177317681238,\n",
       " 2.0,\n",
       " 2.0,\n",
       " 2.0,\n",
       " 2.0,\n",
       " 2.0,\n",
       " 3.0,\n",
       " 3.0,\n",
       " 3.0,\n",
       " 2.0,\n",
       " 2.0,\n",
       " 2.0,\n",
       " 2.0,\n",
       " 2.0,\n",
       " 2.0,\n",
       " 2.0,\n",
       " 2.0,\n",
       " 2.0,\n",
       " 2.0,\n",
       " 3.0,\n",
       " 2.0,\n",
       " 2.0,\n",
       " 2.0,\n",
       " 2.0,\n",
       " 2.0,\n",
       " 2.0,\n",
       " 2.0,\n",
       " 3.0,\n",
       " 2.0,\n",
       " 3.0,\n",
       " 3.0,\n",
       " 2.0,\n",
       " 2.0,\n",
       " 3.0,\n",
       " 3.0,\n",
       " 2.0,\n",
       " 2.0,\n",
       " 2.0,\n",
       " 3.0,\n",
       " 2.0,\n",
       " 2.0,\n",
       " 2.0,\n",
       " 2.0,\n",
       " 2.0,\n",
       " 3.0,\n",
       " 3.0,\n",
       " 2.0,\n",
       " 2.0,\n",
       " 2.0,\n",
       " 3.0,\n",
       " 3.0,\n",
       " 3.0,\n",
       " 3.0,\n",
       " 2.0,\n",
       " 2.0,\n",
       " 2.0,\n",
       " 2.0,\n",
       " 2.0,\n",
       " 2.0,\n",
       " 2.004128253758007,\n",
       " 2.0,\n",
       " 3.0,\n",
       " 3.0,\n",
       " 2.0,\n",
       " 2.0,\n",
       " 2.0,\n",
       " 2.0,\n",
       " 2.0,\n",
       " 2.0,\n",
       " 2.0,\n",
       " 2.0,\n",
       " 3.0,\n",
       " 3.0,\n",
       " 2.0,\n",
       " 2.0,\n",
       " 2.0,\n",
       " 2.0,\n",
       " 2.0,\n",
       " 2.0,\n",
       " 2.0,\n",
       " 2.0,\n",
       " 2.0,\n",
       " 2.0,\n",
       " 2.0,\n",
       " 2.0,\n",
       " 2.0,\n",
       " -1.0,\n",
       " -1.0,\n",
       " 2.0,\n",
       " 0.9941841195834747,\n",
       " 2.0,\n",
       " 1.0182876119214044,\n",
       " 2.0,\n",
       " 2.0,\n",
       " 2.0,\n",
       " 2.0,\n",
       " 2.0,\n",
       " 3.0,\n",
       " 2.0,\n",
       " 2.0,\n",
       " 2.0,\n",
       " 2.0,\n",
       " 2.0,\n",
       " 2.0,\n",
       " 2.0,\n",
       " 2.0,\n",
       " 2.0,\n",
       " 2.0,\n",
       " 2.0,\n",
       " 3.0,\n",
       " 2.0,\n",
       " 2.0,\n",
       " 2.0,\n",
       " 2.0,\n",
       " 2.0,\n",
       " 1.9957387363398045,\n",
       " 1.0107801974049688,\n",
       " 1.9941635780366544,\n",
       " 2.0,\n",
       " 2.0,\n",
       " 2.0,\n",
       " 2.0,\n",
       " 2.0,\n",
       " 2.0,\n",
       " 2.0,\n",
       " 2.0,\n",
       " 2.0,\n",
       " 2.0,\n",
       " 2.0,\n",
       " 2.0,\n",
       " 2.0,\n",
       " 3.0,\n",
       " 3.0,\n",
       " 3.0,\n",
       " 3.0,\n",
       " 3.0,\n",
       " 3.0,\n",
       " 3.0,\n",
       " 3.0,\n",
       " 3.0,\n",
       " 3.0,\n",
       " 2.0,\n",
       " 2.0,\n",
       " 2.0,\n",
       " 2.0,\n",
       " 2.0,\n",
       " 2.0,\n",
       " 2.0,\n",
       " 2.0,\n",
       " 2.0,\n",
       " 1.003778160583242,\n",
       " 0.9754403771103166,\n",
       " 2.0,\n",
       " 0.992234188,\n",
       " 0.9976878422725288,\n",
       " 2.0,\n",
       " 2.0,\n",
       " 2.0,\n",
       " 2.0,\n",
       " 2.0,\n",
       " 2.0,\n",
       " 1.964920922356823,\n",
       " 2.0,\n",
       " 2.0,\n",
       " 2.0,\n",
       " 2.0,\n",
       " 2.0,\n",
       " 1.304507175110962,\n",
       " 1.304507175110962,\n",
       " 0.9812263853035132,\n",
       " 2.0,\n",
       " 3.0,\n",
       " 3.0,\n",
       " 2.0,\n",
       " 2.0,\n",
       " 2.0,\n",
       " 1.304507175110962,\n",
       " 0.991200126983224,\n",
       " 2.0,\n",
       " 2.0,\n",
       " 2.0,\n",
       " 3.0,\n",
       " 3.0,\n",
       " 2.0,\n",
       " 2.0,\n",
       " 2.0,\n",
       " 2.0,\n",
       " 3.0,\n",
       " 3.0,\n",
       " 3.0,\n",
       " 3.0,\n",
       " 3.0,\n",
       " 2.0,\n",
       " 2.0,\n",
       " 2.0,\n",
       " 2.0,\n",
       " 2.0,\n",
       " 2.0,\n",
       " 2.0,\n",
       " 2.0,\n",
       " 2.0,\n",
       " 0.984833884362688,\n",
       " 3.0,\n",
       " 3.0,\n",
       " 2.0,\n",
       " 3.0,\n",
       " 3.0,\n",
       " 3.0,\n",
       " 2.0,\n",
       " 3.0,\n",
       " 3.0,\n",
       " 2.971309235761406,\n",
       " 3.0,\n",
       " 3.0,\n",
       " 2.0,\n",
       " 3.0,\n",
       " 0.9928467940332338,\n",
       " 2.0,\n",
       " 2.0,\n",
       " 3.0,\n",
       " 2.0,\n",
       " 2.0,\n",
       " 2.0,\n",
       " 2.0,\n",
       " 2.0,\n",
       " 3.0,\n",
       " 3.0,\n",
       " 3.0,\n",
       " 1.003509714856509,\n",
       " 2.0,\n",
       " 0.9959739855556836,\n",
       " 2.0,\n",
       " 5.0,\n",
       " 2.0,\n",
       " 2.0,\n",
       " 2.0,\n",
       " 3.019151603640797,\n",
       " 3.0,\n",
       " 3.0,\n",
       " 3.015185033885051,\n",
       " 3.0,\n",
       " 2.0,\n",
       " 3.0,\n",
       " 2.0,\n",
       " 2.0,\n",
       " 2.0,\n",
       " 2.0,\n",
       " 2.0,\n",
       " 2.0,\n",
       " 2.0,\n",
       " 1.9974719536877263,\n",
       " 2.0,\n",
       " 2.0,\n",
       " 2.0,\n",
       " 0.979737977250412,\n",
       " 2.0,\n",
       " 2.0,\n",
       " 2.0163152394599373,\n",
       " 2.0,\n",
       " 2.0351600536707752,\n",
       " 2.0,\n",
       " 2.0,\n",
       " 1.99860173091956,\n",
       " 2.0,\n",
       " 2.0,\n",
       " 2.0,\n",
       " 2.0,\n",
       " 2.0,\n",
       " 2.0,\n",
       " 2.0,\n",
       " 2.0,\n",
       " 3.0,\n",
       " 3.0,\n",
       " 2.0,\n",
       " 2.0,\n",
       " 2.0,\n",
       " 2.0,\n",
       " 2.0,\n",
       " 0.99167495011883,\n",
       " 0.9883928504062728,\n",
       " 1.0081706117647786,\n",
       " 0.9874981331247916,\n",
       " 0.9937957184088267,\n",
       " 0.9890056676785192,\n",
       " 1.304507175110962,\n",
       " 1.304507175110962,\n",
       " 0.9963475793379576,\n",
       " 2.0,\n",
       " 2.0,\n",
       " 3.0,\n",
       " 1.0003288049821797,\n",
       " 1.0182172134541416,\n",
       " 1.021283519,\n",
       " 0.991066133193022,\n",
       " 1.304507175110962,\n",
       " 1.016638245091129,\n",
       " 1.0020633270043304,\n",
       " -1.0,\n",
       " 0.981459591,\n",
       " 1.000682210783196,\n",
       " 1.304507175110962,\n",
       " 2.0,\n",
       " 2.0,\n",
       " 2.0,\n",
       " 2.0,\n",
       " 2.0,\n",
       " 1.0002694181103209,\n",
       " 1.0061532294766753,\n",
       " 0.995916199,\n",
       " 1.019826798590587,\n",
       " 0.9723045763887092,\n",
       " 0.9670754980678286,\n",
       " 1.005422015632412,\n",
       " 0.9847920503949026,\n",
       " 1.001646134183168,\n",
       " 1.0030147315835138,\n",
       " 1.304507175110962,\n",
       " 1.0057145486784334,\n",
       " 2.0,\n",
       " 3.0,\n",
       " 1.304507175110962,\n",
       " 3.0,\n",
       " 3.0,\n",
       " 0.9998654856299566,\n",
       " 1.992959289903901,\n",
       " 2.0,\n",
       " 1.006826167376889,\n",
       " 2.0,\n",
       " -1.0,\n",
       " 1.0048000568005426,\n",
       " 2.0,\n",
       " 2.0,\n",
       " 2.0,\n",
       " 2.0,\n",
       " 0.9895254226574304,\n",
       " 2.0,\n",
       " 2.0,\n",
       " 2.0,\n",
       " 2.0,\n",
       " 1.009165409192318,\n",
       " 2.0,\n",
       " 2.0,\n",
       " 0.9781736816739484,\n",
       " 2.0,\n",
       " 1.304507175110962,\n",
       " 2.0,\n",
       " 1.007153967573045,\n",
       " 2.0,\n",
       " 2.0,\n",
       " 2.0,\n",
       " 1.9913388162433523,\n",
       " 2.0,\n",
       " 2.0,\n",
       " 2.0,\n",
       " 2.0,\n",
       " 2.0,\n",
       " 2.0,\n",
       " 3.0,\n",
       " 2.0,\n",
       " 3.0,\n",
       " 3.0,\n",
       " 5.0,\n",
       " 0.9694468894020888,\n",
       " 0.97927954,\n",
       " 1.023059751158252,\n",
       " 2.0,\n",
       " 2.0,\n",
       " 2.0,\n",
       " 2.0,\n",
       " 2.0,\n",
       " 2.0,\n",
       " 2.0,\n",
       " 2.0,\n",
       " 2.0,\n",
       " 2.0,\n",
       " 0.9974793053778424,\n",
       " 1.304507175110962,\n",
       " 1.304507175110962,\n",
       " -1.0,\n",
       " 3.0,\n",
       " 3.0,\n",
       " 3.0,\n",
       " 3.0,\n",
       " 3.0,\n",
       " 3.0,\n",
       " 1.0055031655841251,\n",
       " 0.9892569738656792,\n",
       " 3.0,\n",
       " 1.0042673260430175,\n",
       " 1.0165219063298438,\n",
       " 1.007480484176626,\n",
       " 0.9966309268854086,\n",
       " 3.0,\n",
       " 3.0,\n",
       " 3.0,\n",
       " 3.0,\n",
       " 3.0,\n",
       " 3.0,\n",
       " 3.0,\n",
       " 3.0,\n",
       " 3.0,\n",
       " 3.0,\n",
       " 3.0,\n",
       " 3.0,\n",
       " 3.020038496900449,\n",
       " 3.0,\n",
       " 3.0,\n",
       " 3.0,\n",
       " 3.0,\n",
       " 3.0,\n",
       " 3.0,\n",
       " 3.0,\n",
       " 3.0,\n",
       " 3.0,\n",
       " 3.034545138551511,\n",
       " 3.0,\n",
       " 3.0,\n",
       " 3.0,\n",
       " 3.0,\n",
       " 1.304507175110962,\n",
       " 3.0073237744685795,\n",
       " 3.0,\n",
       " 3.0,\n",
       " 0.9883989770739442,\n",
       " 1.0058952617876198,\n",
       " 1.017613811765064,\n",
       " 0.9966141640354086,\n",
       " 1.304507175110962,\n",
       " 1.304507175110962,\n",
       " 3.0,\n",
       " 3.0,\n",
       " 3.0,\n",
       " 3.0,\n",
       " 1.0032941935548108,\n",
       " 3.0,\n",
       " 3.0,\n",
       " 3.0,\n",
       " 3.0,\n",
       " 3.0,\n",
       " 3.0,\n",
       " 3.0,\n",
       " 3.0,\n",
       " 0.9979391028289584,\n",
       " 3.0,\n",
       " 1.304507175110962,\n",
       " 1.304507175110962,\n",
       " 3.0,\n",
       " 3.0,\n",
       " 3.0,\n",
       " 3.0,\n",
       " 3.0,\n",
       " 3.0,\n",
       " 3.0,\n",
       " 3.0,\n",
       " 3.0,\n",
       " 3.0,\n",
       " 3.0,\n",
       " 3.0,\n",
       " 3.0,\n",
       " 3.0,\n",
       " 3.0,\n",
       " 3.0,\n",
       " 3.0,\n",
       " 3.0,\n",
       " 3.01105313021017,\n",
       " 3.0,\n",
       " 1.0196808318772768,\n",
       " 0.9944318414630274,\n",
       " 1.0108141770807877,\n",
       " 3.0,\n",
       " 3.0,\n",
       " 3.0,\n",
       " 3.0,\n",
       " 3.0,\n",
       " 3.0,\n",
       " 3.0,\n",
       " 3.0,\n",
       " 3.0,\n",
       " 3.0,\n",
       " 3.0,\n",
       " 3.0,\n",
       " 3.0,\n",
       " 3.0,\n",
       " 3.0,\n",
       " 3.0,\n",
       " 0.9997236891827268,\n",
       " 0.993916947736566,\n",
       " 0.9982998126162536,\n",
       " 0.9936948066414402,\n",
       " 2.0,\n",
       " 1.0138642265828866,\n",
       " 0.9898621604640492,\n",
       " 1.0042342187465387,\n",
       " 2.0,\n",
       " 2.0,\n",
       " 1.9904640085947127,\n",
       " 2.0]"
      ]
     },
     "execution_count": 85,
     "metadata": {},
     "output_type": "execute_result"
    }
   ],
   "source": [
    "finding_outlier(df['NSP'])"
   ]
  },
  {
   "cell_type": "code",
   "execution_count": 86,
   "id": "0c446251",
   "metadata": {},
   "outputs": [
    {
     "data": {
      "text/plain": [
       "<Axes: >"
      ]
     },
     "execution_count": 86,
     "metadata": {},
     "output_type": "execute_result"
    },
    {
     "data": {
      "image/png": "[encoded data removed]",
      "text/plain": [
       "<Figure size 640x480 with 1 Axes>"
      ]
     },
     "metadata": {},
     "output_type": "display_data"
    }
   ],
   "source": [
    "sns.boxplot(df['NSP'])"
   ]
  },
  {
   "cell_type": "code",
   "execution_count": 90,
   "id": "4d286339",
   "metadata": {},
   "outputs": [
    {
     "data": {
      "text/plain": [
       " 1.000000    1546\n",
       " 2.000000     280\n",
       " 3.000000     164\n",
       " 1.304507      21\n",
       "-1.000000       5\n",
       "             ... \n",
       " 0.992847       1\n",
       " 2.971309       1\n",
       " 0.984834       1\n",
       " 0.991200       1\n",
       " 1.990464       1\n",
       "Name: NSP, Length: 112, dtype: int64"
      ]
     },
     "execution_count": 90,
     "metadata": {},
     "output_type": "execute_result"
    }
   ],
   "source": [
    "## if NSP is Target variable then the data is imbalanced\n",
    "df['NSP'].value_counts()"
   ]
  },
  {
   "cell_type": "code",
   "execution_count": 91,
   "id": "af9a7740",
   "metadata": {},
   "outputs": [
    {
     "data": {
      "text/plain": [
       " 0.000000e+00    1985\n",
       " 2.508984e-06      21\n",
       "-1.353180e-03       7\n",
       " 2.706360e-03       2\n",
       " 1.078749e-03       1\n",
       "                 ... \n",
       "-2.900000e-06       1\n",
       " 4.565852e-06       1\n",
       " 1.354294e-08       1\n",
       "-2.510000e-06       1\n",
       " 9.488398e-07       1\n",
       "Name: DS, Length: 115, dtype: int64"
      ]
     },
     "execution_count": 91,
     "metadata": {},
     "output_type": "execute_result"
    }
   ],
   "source": [
    "## in this column the most of the data is filled with zero value\n",
    "df['DS'].value_counts()"
   ]
  },
  {
   "cell_type": "code",
   "execution_count": 92,
   "id": "42208b0b",
   "metadata": {},
   "outputs": [
    {
     "data": {
      "text/plain": [
       " 0.000000    1821\n",
       " 0.000175      21\n",
       " 0.010695       6\n",
       "-0.005348       4\n",
       " 0.000834       3\n",
       "             ... \n",
       " 0.001221       1\n",
       "-0.000002       1\n",
       "-0.000034       1\n",
       " 0.000013       1\n",
       " 0.002174       1\n",
       "Name: DP, Length: 265, dtype: int64"
      ]
     },
     "execution_count": 92,
     "metadata": {},
     "output_type": "execute_result"
    }
   ],
   "source": [
    "## 1821 values are zero in this column\n",
    "df['DP'].value_counts()\n"
   ]
  },
  {
   "cell_type": "code",
   "execution_count": null,
   "id": "8e8c16f3",
   "metadata": {},
   "outputs": [],
   "source": []
  }
 ],
 "metadata": {
  "kernelspec": {
   "display_name": "Python 3 (ipykernel)",
   "language": "python",
   "name": "python3"
  },
  "language_info": {
   "codemirror_mode": {
    "name": "ipython",
    "version": 3
   },
   "file_extension": ".py",
   "mimetype": "text/x-python",
   "name": "python",
   "nbconvert_exporter": "python",
   "pygments_lexer": "ipython3",
   "version": "3.10.9"
  }
 },
 "nbformat": 4,
 "nbformat_minor": 5
}
