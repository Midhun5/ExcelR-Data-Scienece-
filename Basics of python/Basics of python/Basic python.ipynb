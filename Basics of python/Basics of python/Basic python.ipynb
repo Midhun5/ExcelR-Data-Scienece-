{
 "cells": [
  {
   "cell_type": "code",
   "execution_count": 1,
   "id": "0b582e91",
   "metadata": {},
   "outputs": [],
   "source": [
    "def is_prime(number):\n",
    "    \"\"\"check if a number is prime\"\"\"\n",
    "    if number <= 1:\n",
    "        return False\n",
    "    if number <= 3:\n",
    "        return True\n",
    "    if number % 2 == 0 or number % 3 == 0:\n",
    "        return False\n",
    "        i = 5\n",
    "        while i * i <= number:\n",
    "            if number % i == 0 or number % (i+2) == 0:\n",
    "                return False\n",
    "            i += 6\n",
    "            return True\n",
    "        \n",
    "    "
   ]
  },
  {
   "cell_type": "code",
   "execution_count": 3,
   "id": "f2b2034e",
   "metadata": {},
   "outputs": [
    {
     "name": "stdout",
     "output_type": "stream",
     "text": [
      "Enter a number to check if it is prime: 2\n",
      "2 is a prime number.\n"
     ]
    }
   ],
   "source": [
    "number_to_check = int(input(\"Enter a number to check if it is prime: \"))\n",
    "if is_prime(number_to_check):\n",
    "    print(f\"{number_to_check} is a prime number.\")\n",
    "else:\n",
    "    print(f\"{number_to_check})is not a prime number.\")\n",
    "    \n",
    "    \n",
    "    "
   ]
  },
  {
   "cell_type": "code",
   "execution_count": 5,
   "id": "7f52e0c6",
   "metadata": {},
   "outputs": [
    {
     "name": "stdout",
     "output_type": "stream",
     "text": [
      "Enter a number to check if it is prime: 5\n",
      "5)is not a prime number.\n"
     ]
    }
   ],
   "source": [
    "number_to_check = int(input(\"Enter a number to check if it is prime: \"))\n",
    "if is_prime(number_to_check):\n",
    "    print(f\"{number_to_check} is a prime number.\")\n",
    "else:\n",
    "    print(f\"{number_to_check})is not a prime number.\")"
   ]
  }
 ],
 "metadata": {
  "kernelspec": {
   "display_name": "Python 3 (ipykernel)",
   "language": "python",
   "name": "python3"
  },
  "language_info": {
   "codemirror_mode": {
    "name": "ipython",
    "version": 3
   },
   "file_extension": ".py",
   "mimetype": "text/x-python",
   "name": "python",
   "nbconvert_exporter": "python",
   "pygments_lexer": "ipython3",
   "version": "3.10.9"
  }
 },
 "nbformat": 4,
 "nbformat_minor": 5
}
